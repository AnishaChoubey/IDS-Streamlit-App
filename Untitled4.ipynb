{
 "cells": [
  {
   "cell_type": "markdown",
   "id": "788b2365",
   "metadata": {},
   "source": [
    "**Importing libraries**"
   ]
  },
  {
   "cell_type": "code",
   "execution_count": 65,
   "id": "1e7bfef5",
   "metadata": {},
   "outputs": [],
   "source": [
    "import pandas as pd\n",
    "import numpy as np\n",
    "import sklearn\n",
    "from sklearn.preprocessing import LabelEncoder, StandardScaler\n",
    "from sklearn.model_selection import train_test_split\n",
    "from sklearn.ensemble import RandomForestClassifier\n",
    "from sklearn.metrics import accuracy_score, precision_score, recall_score, f1_score, confusion_matrix, classification_report\n",
    "# from imblearn.over_sampling import SMOTE  # For handling imbalance\n",
    "from sklearn.utils import resample # For handling imbalance without imblearn\n",
    "import joblib  # For saving model\n",
    "import seaborn as sns\n",
    "import matplotlib.pyplot as plt"
   ]
  },
  {
   "cell_type": "code",
   "execution_count": 13,
   "id": "0899928d",
   "metadata": {},
   "outputs": [],
   "source": [
    "# import sklearn\n",
    "# print(sklearn.__version__)\n",
    "# !pip install --upgrade scikit-learn==1.7.1\n",
    "# python -c \"import sklearn; print(sklearn.__version__)\"\n",
    "\n",
    "\n"
   ]
  },
  {
   "cell_type": "markdown",
   "id": "574c4fb8",
   "metadata": {},
   "source": [
    "**Load Data**"
   ]
  },
  {
   "cell_type": "code",
   "execution_count": 66,
   "id": "90a7cbac",
   "metadata": {
    "scrolled": true
   },
   "outputs": [
    {
     "name": "stdout",
     "output_type": "stream",
     "text": [
      "(1048575, 80)\n",
      "<class 'pandas.core.frame.DataFrame'>\n",
      "RangeIndex: 1048575 entries, 0 to 1048574\n",
      "Data columns (total 80 columns):\n",
      " #   Column             Non-Null Count    Dtype  \n",
      "---  ------             --------------    -----  \n",
      " 0   Dst Port           1048575 non-null  int64  \n",
      " 1   Protocol           1048575 non-null  int64  \n",
      " 2   Timestamp          1048575 non-null  object \n",
      " 3   Flow Duration      1048575 non-null  int64  \n",
      " 4   Tot Fwd Pkts       1048575 non-null  int64  \n",
      " 5   Tot Bwd Pkts       1048575 non-null  int64  \n",
      " 6   TotLen Fwd Pkts    1048575 non-null  int64  \n",
      " 7   TotLen Bwd Pkts    1048575 non-null  int64  \n",
      " 8   Fwd Pkt Len Max    1048575 non-null  int64  \n",
      " 9   Fwd Pkt Len Min    1048575 non-null  int64  \n",
      " 10  Fwd Pkt Len Mean   1048575 non-null  float64\n",
      " 11  Fwd Pkt Len Std    1048575 non-null  float64\n",
      " 12  Bwd Pkt Len Max    1048575 non-null  int64  \n",
      " 13  Bwd Pkt Len Min    1048575 non-null  int64  \n",
      " 14  Bwd Pkt Len Mean   1048575 non-null  float64\n",
      " 15  Bwd Pkt Len Std    1048575 non-null  float64\n",
      " 16  Flow Byts/s        1046298 non-null  float64\n",
      " 17  Flow Pkts/s        1048575 non-null  float64\n",
      " 18  Flow IAT Mean      1048575 non-null  float64\n",
      " 19  Flow IAT Std       1048575 non-null  float64\n",
      " 20  Flow IAT Max       1048575 non-null  int64  \n",
      " 21  Flow IAT Min       1048575 non-null  int64  \n",
      " 22  Fwd IAT Tot        1048575 non-null  int64  \n",
      " 23  Fwd IAT Mean       1048575 non-null  float64\n",
      " 24  Fwd IAT Std        1048575 non-null  float64\n",
      " 25  Fwd IAT Max        1048575 non-null  int64  \n",
      " 26  Fwd IAT Min        1048575 non-null  int64  \n",
      " 27  Bwd IAT Tot        1048575 non-null  int64  \n",
      " 28  Bwd IAT Mean       1048575 non-null  float64\n",
      " 29  Bwd IAT Std        1048575 non-null  float64\n",
      " 30  Bwd IAT Max        1048575 non-null  int64  \n",
      " 31  Bwd IAT Min        1048575 non-null  int64  \n",
      " 32  Fwd PSH Flags      1048575 non-null  int64  \n",
      " 33  Bwd PSH Flags      1048575 non-null  int64  \n",
      " 34  Fwd URG Flags      1048575 non-null  int64  \n",
      " 35  Bwd URG Flags      1048575 non-null  int64  \n",
      " 36  Fwd Header Len     1048575 non-null  int64  \n",
      " 37  Bwd Header Len     1048575 non-null  int64  \n",
      " 38  Fwd Pkts/s         1048575 non-null  float64\n",
      " 39  Bwd Pkts/s         1048575 non-null  float64\n",
      " 40  Pkt Len Min        1048575 non-null  int64  \n",
      " 41  Pkt Len Max        1048575 non-null  int64  \n",
      " 42  Pkt Len Mean       1048575 non-null  float64\n",
      " 43  Pkt Len Std        1048575 non-null  float64\n",
      " 44  Pkt Len Var        1048575 non-null  float64\n",
      " 45  FIN Flag Cnt       1048575 non-null  int64  \n",
      " 46  SYN Flag Cnt       1048575 non-null  int64  \n",
      " 47  RST Flag Cnt       1048575 non-null  int64  \n",
      " 48  PSH Flag Cnt       1048575 non-null  int64  \n",
      " 49  ACK Flag Cnt       1048575 non-null  int64  \n",
      " 50  URG Flag Cnt       1048575 non-null  int64  \n",
      " 51  CWE Flag Count     1048575 non-null  int64  \n",
      " 52  ECE Flag Cnt       1048575 non-null  int64  \n",
      " 53  Down/Up Ratio      1048575 non-null  int64  \n",
      " 54  Pkt Size Avg       1048575 non-null  float64\n",
      " 55  Fwd Seg Size Avg   1048575 non-null  float64\n",
      " 56  Bwd Seg Size Avg   1048575 non-null  float64\n",
      " 57  Fwd Byts/b Avg     1048575 non-null  int64  \n",
      " 58  Fwd Pkts/b Avg     1048575 non-null  int64  \n",
      " 59  Fwd Blk Rate Avg   1048575 non-null  int64  \n",
      " 60  Bwd Byts/b Avg     1048575 non-null  int64  \n",
      " 61  Bwd Pkts/b Avg     1048575 non-null  int64  \n",
      " 62  Bwd Blk Rate Avg   1048575 non-null  int64  \n",
      " 63  Subflow Fwd Pkts   1048575 non-null  int64  \n",
      " 64  Subflow Fwd Byts   1048575 non-null  int64  \n",
      " 65  Subflow Bwd Pkts   1048575 non-null  int64  \n",
      " 66  Subflow Bwd Byts   1048575 non-null  int64  \n",
      " 67  Init Fwd Win Byts  1048575 non-null  int64  \n",
      " 68  Init Bwd Win Byts  1048575 non-null  int64  \n",
      " 69  Fwd Act Data Pkts  1048575 non-null  int64  \n",
      " 70  Fwd Seg Size Min   1048575 non-null  int64  \n",
      " 71  Active Mean        1048575 non-null  float64\n",
      " 72  Active Std         1048575 non-null  float64\n",
      " 73  Active Max         1048575 non-null  int64  \n",
      " 74  Active Min         1048575 non-null  int64  \n",
      " 75  Idle Mean          1048575 non-null  float64\n",
      " 76  Idle Std           1048575 non-null  float64\n",
      " 77  Idle Max           1048575 non-null  int64  \n",
      " 78  Idle Min           1048575 non-null  int64  \n",
      " 79  Label              1048575 non-null  object \n",
      "dtypes: float64(24), int64(54), object(2)\n",
      "memory usage: 640.0+ MB\n",
      "None\n"
     ]
    },
    {
     "data": {
      "text/html": [
       "<div>\n",
       "<style scoped>\n",
       "    .dataframe tbody tr th:only-of-type {\n",
       "        vertical-align: middle;\n",
       "    }\n",
       "\n",
       "    .dataframe tbody tr th {\n",
       "        vertical-align: top;\n",
       "    }\n",
       "\n",
       "    .dataframe thead th {\n",
       "        text-align: right;\n",
       "    }\n",
       "</style>\n",
       "<table border=\"1\" class=\"dataframe\">\n",
       "  <thead>\n",
       "    <tr style=\"text-align: right;\">\n",
       "      <th></th>\n",
       "      <th>Dst Port</th>\n",
       "      <th>Protocol</th>\n",
       "      <th>Timestamp</th>\n",
       "      <th>Flow Duration</th>\n",
       "      <th>Tot Fwd Pkts</th>\n",
       "      <th>Tot Bwd Pkts</th>\n",
       "      <th>TotLen Fwd Pkts</th>\n",
       "      <th>TotLen Bwd Pkts</th>\n",
       "      <th>Fwd Pkt Len Max</th>\n",
       "      <th>Fwd Pkt Len Min</th>\n",
       "      <th>...</th>\n",
       "      <th>Fwd Seg Size Min</th>\n",
       "      <th>Active Mean</th>\n",
       "      <th>Active Std</th>\n",
       "      <th>Active Max</th>\n",
       "      <th>Active Min</th>\n",
       "      <th>Idle Mean</th>\n",
       "      <th>Idle Std</th>\n",
       "      <th>Idle Max</th>\n",
       "      <th>Idle Min</th>\n",
       "      <th>Label</th>\n",
       "    </tr>\n",
       "  </thead>\n",
       "  <tbody>\n",
       "    <tr>\n",
       "      <th>0</th>\n",
       "      <td>0</td>\n",
       "      <td>0</td>\n",
       "      <td>14/02/2018 08:31:01</td>\n",
       "      <td>112641719</td>\n",
       "      <td>3</td>\n",
       "      <td>0</td>\n",
       "      <td>0</td>\n",
       "      <td>0</td>\n",
       "      <td>0</td>\n",
       "      <td>0</td>\n",
       "      <td>...</td>\n",
       "      <td>0</td>\n",
       "      <td>0.0</td>\n",
       "      <td>0.0</td>\n",
       "      <td>0</td>\n",
       "      <td>0</td>\n",
       "      <td>56320859.5</td>\n",
       "      <td>139.300036</td>\n",
       "      <td>56320958</td>\n",
       "      <td>56320761</td>\n",
       "      <td>Benign</td>\n",
       "    </tr>\n",
       "    <tr>\n",
       "      <th>1</th>\n",
       "      <td>0</td>\n",
       "      <td>0</td>\n",
       "      <td>14/02/2018 08:33:50</td>\n",
       "      <td>112641466</td>\n",
       "      <td>3</td>\n",
       "      <td>0</td>\n",
       "      <td>0</td>\n",
       "      <td>0</td>\n",
       "      <td>0</td>\n",
       "      <td>0</td>\n",
       "      <td>...</td>\n",
       "      <td>0</td>\n",
       "      <td>0.0</td>\n",
       "      <td>0.0</td>\n",
       "      <td>0</td>\n",
       "      <td>0</td>\n",
       "      <td>56320733.0</td>\n",
       "      <td>114.551299</td>\n",
       "      <td>56320814</td>\n",
       "      <td>56320652</td>\n",
       "      <td>Benign</td>\n",
       "    </tr>\n",
       "    <tr>\n",
       "      <th>2</th>\n",
       "      <td>0</td>\n",
       "      <td>0</td>\n",
       "      <td>14/02/2018 08:36:39</td>\n",
       "      <td>112638623</td>\n",
       "      <td>3</td>\n",
       "      <td>0</td>\n",
       "      <td>0</td>\n",
       "      <td>0</td>\n",
       "      <td>0</td>\n",
       "      <td>0</td>\n",
       "      <td>...</td>\n",
       "      <td>0</td>\n",
       "      <td>0.0</td>\n",
       "      <td>0.0</td>\n",
       "      <td>0</td>\n",
       "      <td>0</td>\n",
       "      <td>56319311.5</td>\n",
       "      <td>301.934596</td>\n",
       "      <td>56319525</td>\n",
       "      <td>56319098</td>\n",
       "      <td>Benign</td>\n",
       "    </tr>\n",
       "    <tr>\n",
       "      <th>3</th>\n",
       "      <td>22</td>\n",
       "      <td>6</td>\n",
       "      <td>14/02/2018 08:40:13</td>\n",
       "      <td>6453966</td>\n",
       "      <td>15</td>\n",
       "      <td>10</td>\n",
       "      <td>1239</td>\n",
       "      <td>2273</td>\n",
       "      <td>744</td>\n",
       "      <td>0</td>\n",
       "      <td>...</td>\n",
       "      <td>32</td>\n",
       "      <td>0.0</td>\n",
       "      <td>0.0</td>\n",
       "      <td>0</td>\n",
       "      <td>0</td>\n",
       "      <td>0.0</td>\n",
       "      <td>0.000000</td>\n",
       "      <td>0</td>\n",
       "      <td>0</td>\n",
       "      <td>Benign</td>\n",
       "    </tr>\n",
       "    <tr>\n",
       "      <th>4</th>\n",
       "      <td>22</td>\n",
       "      <td>6</td>\n",
       "      <td>14/02/2018 08:40:23</td>\n",
       "      <td>8804066</td>\n",
       "      <td>14</td>\n",
       "      <td>11</td>\n",
       "      <td>1143</td>\n",
       "      <td>2209</td>\n",
       "      <td>744</td>\n",
       "      <td>0</td>\n",
       "      <td>...</td>\n",
       "      <td>32</td>\n",
       "      <td>0.0</td>\n",
       "      <td>0.0</td>\n",
       "      <td>0</td>\n",
       "      <td>0</td>\n",
       "      <td>0.0</td>\n",
       "      <td>0.000000</td>\n",
       "      <td>0</td>\n",
       "      <td>0</td>\n",
       "      <td>Benign</td>\n",
       "    </tr>\n",
       "    <tr>\n",
       "      <th>5</th>\n",
       "      <td>22</td>\n",
       "      <td>6</td>\n",
       "      <td>14/02/2018 08:40:31</td>\n",
       "      <td>6989341</td>\n",
       "      <td>16</td>\n",
       "      <td>12</td>\n",
       "      <td>1239</td>\n",
       "      <td>2273</td>\n",
       "      <td>744</td>\n",
       "      <td>0</td>\n",
       "      <td>...</td>\n",
       "      <td>20</td>\n",
       "      <td>0.0</td>\n",
       "      <td>0.0</td>\n",
       "      <td>0</td>\n",
       "      <td>0</td>\n",
       "      <td>0.0</td>\n",
       "      <td>0.000000</td>\n",
       "      <td>0</td>\n",
       "      <td>0</td>\n",
       "      <td>Benign</td>\n",
       "    </tr>\n",
       "    <tr>\n",
       "      <th>6</th>\n",
       "      <td>0</td>\n",
       "      <td>0</td>\n",
       "      <td>14/02/2018 08:39:28</td>\n",
       "      <td>112640480</td>\n",
       "      <td>3</td>\n",
       "      <td>0</td>\n",
       "      <td>0</td>\n",
       "      <td>0</td>\n",
       "      <td>0</td>\n",
       "      <td>0</td>\n",
       "      <td>...</td>\n",
       "      <td>0</td>\n",
       "      <td>0.0</td>\n",
       "      <td>0.0</td>\n",
       "      <td>0</td>\n",
       "      <td>0</td>\n",
       "      <td>56320240.0</td>\n",
       "      <td>203.646753</td>\n",
       "      <td>56320384</td>\n",
       "      <td>56320096</td>\n",
       "      <td>Benign</td>\n",
       "    </tr>\n",
       "    <tr>\n",
       "      <th>7</th>\n",
       "      <td>0</td>\n",
       "      <td>0</td>\n",
       "      <td>14/02/2018 08:42:17</td>\n",
       "      <td>112641244</td>\n",
       "      <td>3</td>\n",
       "      <td>0</td>\n",
       "      <td>0</td>\n",
       "      <td>0</td>\n",
       "      <td>0</td>\n",
       "      <td>0</td>\n",
       "      <td>...</td>\n",
       "      <td>0</td>\n",
       "      <td>0.0</td>\n",
       "      <td>0.0</td>\n",
       "      <td>0</td>\n",
       "      <td>0</td>\n",
       "      <td>56320622.0</td>\n",
       "      <td>62.225397</td>\n",
       "      <td>56320666</td>\n",
       "      <td>56320578</td>\n",
       "      <td>Benign</td>\n",
       "    </tr>\n",
       "    <tr>\n",
       "      <th>8</th>\n",
       "      <td>80</td>\n",
       "      <td>6</td>\n",
       "      <td>14/02/2018 08:47:14</td>\n",
       "      <td>476513</td>\n",
       "      <td>5</td>\n",
       "      <td>3</td>\n",
       "      <td>211</td>\n",
       "      <td>463</td>\n",
       "      <td>211</td>\n",
       "      <td>0</td>\n",
       "      <td>...</td>\n",
       "      <td>32</td>\n",
       "      <td>0.0</td>\n",
       "      <td>0.0</td>\n",
       "      <td>0</td>\n",
       "      <td>0</td>\n",
       "      <td>0.0</td>\n",
       "      <td>0.000000</td>\n",
       "      <td>0</td>\n",
       "      <td>0</td>\n",
       "      <td>Benign</td>\n",
       "    </tr>\n",
       "    <tr>\n",
       "      <th>9</th>\n",
       "      <td>80</td>\n",
       "      <td>6</td>\n",
       "      <td>14/02/2018 08:47:15</td>\n",
       "      <td>475048</td>\n",
       "      <td>5</td>\n",
       "      <td>3</td>\n",
       "      <td>220</td>\n",
       "      <td>472</td>\n",
       "      <td>220</td>\n",
       "      <td>0</td>\n",
       "      <td>...</td>\n",
       "      <td>32</td>\n",
       "      <td>0.0</td>\n",
       "      <td>0.0</td>\n",
       "      <td>0</td>\n",
       "      <td>0</td>\n",
       "      <td>0.0</td>\n",
       "      <td>0.000000</td>\n",
       "      <td>0</td>\n",
       "      <td>0</td>\n",
       "      <td>Benign</td>\n",
       "    </tr>\n",
       "  </tbody>\n",
       "</table>\n",
       "<p>10 rows × 80 columns</p>\n",
       "</div>"
      ],
      "text/plain": [
       "   Dst Port  Protocol            Timestamp  Flow Duration  Tot Fwd Pkts  \\\n",
       "0         0         0  14/02/2018 08:31:01      112641719             3   \n",
       "1         0         0  14/02/2018 08:33:50      112641466             3   \n",
       "2         0         0  14/02/2018 08:36:39      112638623             3   \n",
       "3        22         6  14/02/2018 08:40:13        6453966            15   \n",
       "4        22         6  14/02/2018 08:40:23        8804066            14   \n",
       "5        22         6  14/02/2018 08:40:31        6989341            16   \n",
       "6         0         0  14/02/2018 08:39:28      112640480             3   \n",
       "7         0         0  14/02/2018 08:42:17      112641244             3   \n",
       "8        80         6  14/02/2018 08:47:14         476513             5   \n",
       "9        80         6  14/02/2018 08:47:15         475048             5   \n",
       "\n",
       "   Tot Bwd Pkts  TotLen Fwd Pkts  TotLen Bwd Pkts  Fwd Pkt Len Max  \\\n",
       "0             0                0                0                0   \n",
       "1             0                0                0                0   \n",
       "2             0                0                0                0   \n",
       "3            10             1239             2273              744   \n",
       "4            11             1143             2209              744   \n",
       "5            12             1239             2273              744   \n",
       "6             0                0                0                0   \n",
       "7             0                0                0                0   \n",
       "8             3              211              463              211   \n",
       "9             3              220              472              220   \n",
       "\n",
       "   Fwd Pkt Len Min  ...  Fwd Seg Size Min  Active Mean  Active Std  \\\n",
       "0                0  ...                 0          0.0         0.0   \n",
       "1                0  ...                 0          0.0         0.0   \n",
       "2                0  ...                 0          0.0         0.0   \n",
       "3                0  ...                32          0.0         0.0   \n",
       "4                0  ...                32          0.0         0.0   \n",
       "5                0  ...                20          0.0         0.0   \n",
       "6                0  ...                 0          0.0         0.0   \n",
       "7                0  ...                 0          0.0         0.0   \n",
       "8                0  ...                32          0.0         0.0   \n",
       "9                0  ...                32          0.0         0.0   \n",
       "\n",
       "   Active Max  Active Min   Idle Mean    Idle Std  Idle Max  Idle Min   Label  \n",
       "0           0           0  56320859.5  139.300036  56320958  56320761  Benign  \n",
       "1           0           0  56320733.0  114.551299  56320814  56320652  Benign  \n",
       "2           0           0  56319311.5  301.934596  56319525  56319098  Benign  \n",
       "3           0           0         0.0    0.000000         0         0  Benign  \n",
       "4           0           0         0.0    0.000000         0         0  Benign  \n",
       "5           0           0         0.0    0.000000         0         0  Benign  \n",
       "6           0           0  56320240.0  203.646753  56320384  56320096  Benign  \n",
       "7           0           0  56320622.0   62.225397  56320666  56320578  Benign  \n",
       "8           0           0         0.0    0.000000         0         0  Benign  \n",
       "9           0           0         0.0    0.000000         0         0  Benign  \n",
       "\n",
       "[10 rows x 80 columns]"
      ]
     },
     "execution_count": 66,
     "metadata": {},
     "output_type": "execute_result"
    }
   ],
   "source": [
    "data = pd.read_csv(r\"C:\\Users\\anish\\Downloads\\IDS\\02-14-2018.csv\\02-14-2018.csv\")\n",
    "print(data.shape)  # (1048575, 80)\n",
    "print(data.info())  # Check dtypes\n",
    "data.head(10)"
   ]
  },
  {
   "cell_type": "code",
   "execution_count": 67,
   "id": "254c333f",
   "metadata": {},
   "outputs": [
    {
     "data": {
      "text/plain": [
       "Label\n",
       "Benign            667626\n",
       "FTP-BruteForce    193360\n",
       "SSH-Bruteforce    187589\n",
       "Name: count, dtype: int64"
      ]
     },
     "execution_count": 67,
     "metadata": {},
     "output_type": "execute_result"
    }
   ],
   "source": [
    "data['Label'].value_counts()"
   ]
  },
  {
   "cell_type": "code",
   "execution_count": 68,
   "id": "52c2233a",
   "metadata": {},
   "outputs": [
    {
     "name": "stdout",
     "output_type": "stream",
     "text": [
      "Flow Byts/s\n"
     ]
    }
   ],
   "source": [
    "for col in data.columns:\n",
    "    if data[col].isna().sum()>0:\n",
    "        print(col)\n",
    "\n"
   ]
  },
  {
   "cell_type": "markdown",
   "id": "ab4086c2",
   "metadata": {},
   "source": [
    "**Handling Missing Values and Infinities**"
   ]
  },
  {
   "cell_type": "code",
   "execution_count": 69,
   "id": "c82ff3ac",
   "metadata": {},
   "outputs": [
    {
     "name": "stderr",
     "output_type": "stream",
     "text": [
      "C:\\Users\\anish\\AppData\\Local\\Temp\\ipykernel_31136\\2726907024.py:9: FutureWarning: A value is trying to be set on a copy of a DataFrame or Series through chained assignment using an inplace method.\n",
      "The behavior will change in pandas 3.0. This inplace method will never work because the intermediate object on which we are setting values always behaves as a copy.\n",
      "\n",
      "For example, when doing 'df[col].method(value, inplace=True)', try using 'df.method({col: value}, inplace=True)' or df[col] = df[col].method(value) instead, to perform the operation inplace on the original object.\n",
      "\n",
      "\n",
      "  data[column].fillna(data[column].mean(), inplace=True)\n",
      "C:\\Users\\anish\\AppData\\Local\\Temp\\ipykernel_31136\\2726907024.py:7: FutureWarning: A value is trying to be set on a copy of a DataFrame or Series through chained assignment using an inplace method.\n",
      "The behavior will change in pandas 3.0. This inplace method will never work because the intermediate object on which we are setting values always behaves as a copy.\n",
      "\n",
      "For example, when doing 'df[col].method(value, inplace=True)', try using 'df.method({col: value}, inplace=True)' or df[col] = df[col].method(value) instead, to perform the operation inplace on the original object.\n",
      "\n",
      "\n",
      "  data[column].fillna(data[column].mode()[0], inplace=True)\n"
     ]
    },
    {
     "name": "stdout",
     "output_type": "stream",
     "text": [
      "0\n",
      "0\n"
     ]
    }
   ],
   "source": [
    "# Replace inf with NaN, then fill NaNs\n",
    "data.replace([np.inf, -np.inf], np.nan, inplace=True)\n",
    "\n",
    "# Fill categorical with mode, numerical with mean\n",
    "for column in data.columns:\n",
    "    if data[column].dtype == 'object':\n",
    "        data[column].fillna(data[column].mode()[0], inplace=True)\n",
    "    else:\n",
    "        data[column].fillna(data[column].mean(), inplace=True)\n",
    "\n",
    "# Verify no NaN/inf left\n",
    "print(data.isnull().sum().sum())  # Should be 0\n",
    "print(np.isinf(data.select_dtypes(include=[np.number])).sum().sum())  # Should be 0"
   ]
  },
  {
   "cell_type": "markdown",
   "id": "63ee5a29",
   "metadata": {},
   "source": [
    "**Data Formatting and Encoding**"
   ]
  },
  {
   "cell_type": "code",
   "execution_count": 70,
   "id": "e79e3665",
   "metadata": {},
   "outputs": [],
   "source": [
    "# Encode categoricals\n",
    "label_encoder = LabelEncoder()\n",
    "data['Timestamp'] = label_encoder.fit_transform(data['Timestamp'])\n",
    "data['Label'] = label_encoder.fit_transform(data['Label'])  # 0: Benign, 1: FTP-BruteForce, 2: SSH-BruteForce\n",
    "\n",
    "# Optional: Binarize for pure anomaly detection (0: Normal, 1: Anomaly)\n",
    "# data['Label'] = data['Label'].apply(lambda x: 0 if x == 0 else 1)\n",
    "\n",
    "# Drop Timestamp if not useful\n",
    "data.drop('Timestamp', axis=1, inplace=True)  # Suggestion: It's not predictive"
   ]
  },
  {
   "cell_type": "code",
   "execution_count": 71,
   "id": "bdc8c71f",
   "metadata": {},
   "outputs": [
    {
     "name": "stdout",
     "output_type": "stream",
     "text": [
      "Original Class Distribution: Label\n",
      "0    667626\n",
      "1    193360\n",
      "2    187589\n",
      "Name: count, dtype: int64\n"
     ]
    }
   ],
   "source": [
    "# Verify class distribution\n",
    "print(\"Original Class Distribution:\", data['Label'].value_counts())\n",
    "data.drop('Timestamp', axis=1, inplace=True, errors='ignore')"
   ]
  },
  {
   "cell_type": "code",
   "execution_count": 72,
   "id": "ebe4483a",
   "metadata": {},
   "outputs": [
    {
     "name": "stdout",
     "output_type": "stream",
     "text": [
      "Class Distribution After Undersampling: Label\n",
      "0    375178\n",
      "1    193360\n",
      "2    187589\n",
      "Name: count, dtype: int64\n"
     ]
    }
   ],
   "source": [
    "# Undersample Benign class\n",
    "benign = data[data['Label'] == 0]\n",
    "ftp_brute = data[data['Label'] == 1]\n",
    "ssh_brute = data[data['Label'] == 2]\n",
    "n_samples = min(len(ftp_brute), len(ssh_brute)) * 2  # Slightly larger sample\n",
    "benign_sample = benign.sample(n=n_samples, random_state=42)\n",
    "data_sample = pd.concat([benign_sample, ftp_brute, ssh_brute], axis=0)\n",
    "print(\"Class Distribution After Undersampling:\", data_sample['Label'].value_counts())"
   ]
  },
  {
   "cell_type": "markdown",
   "id": "a2613b59",
   "metadata": {},
   "source": [
    "Subsample and split data into test and train"
   ]
  },
  {
   "cell_type": "code",
   "execution_count": 73,
   "id": "4f85ed63",
   "metadata": {},
   "outputs": [],
   "source": [
    "# Subsample data (20% with stratification)\n",
    "# data_sample = data.groupby('Label', group_keys=False).apply(lambda x: x.sample(frac=0.2, random_state=42))\n",
    "\n",
    "# Split data\n",
    "X = data_sample.drop('Label', axis=1)\n",
    "y = data_sample['Label']\n",
    "X_train, X_test, y_train, y_test = train_test_split(X, y, test_size=0.2, random_state=42, stratify=y)"
   ]
  },
  {
   "cell_type": "markdown",
   "id": "28715398",
   "metadata": {},
   "source": [
    "Feature Selection"
   ]
  },
  {
   "cell_type": "code",
   "execution_count": 78,
   "id": "e0a84747",
   "metadata": {},
   "outputs": [],
   "source": [
    "# Feature selection (top 20)\n",
    "# clf_temp = RandomForestClassifier(n_estimators=10, random_state=42, n_jobs=-1)\n",
    "# clf_temp.fit(X_train, y_train)\n",
    "# top_features = pd.Series(clf_temp.feature_importances_, index=X.columns).sort_values(ascending=False).head(20).index.tolist()\n",
    "# print(\"Top Features:\", top_features)\n",
    "# joblib.dump(top_features, 'top_features.pkl')\n",
    "# Use provided top features\n",
    "# Use provided top features\n",
    "top_features = [\n",
    "    'Dst Port', 'Fwd Pkts/s', 'Init Bwd Win Byts', 'Fwd Seg Size Min', 'Init Fwd Win Byts', \n",
    "    'Flow IAT Mean', 'Flow Pkts/s', 'URG Flag Cnt', 'Tot Bwd Pkts', 'TotLen Fwd Pkts', \n",
    "    'Fwd IAT Max', 'Pkt Len Mean', 'Bwd Pkts/s', 'Down/Up Ratio', 'Fwd Pkt Len Max', \n",
    "    'Subflow Bwd Byts', 'Pkt Len Max', 'Bwd Header Len', 'PSH Flag Cnt', 'Fwd IAT Mean'\n",
    "]\n",
    "joblib.dump(top_features, 'C:/Users/anish/Downloads/IDS/top_features.pkl')\n",
    "\n",
    "# Ensure all features exist\n",
    "missing_features = [f for f in top_features if f not in X_train.columns]\n",
    "if missing_features:\n",
    "    print(\"Error: Missing features in dataset:\", missing_features)\n",
    "    raise ValueError(\"Required features not found in dataset\")\n",
    "\n",
    "X_train = X_train[top_features]\n",
    "X_test = X_test[top_features]"
   ]
  },
  {
   "cell_type": "code",
   "execution_count": 79,
   "id": "e58a4281",
   "metadata": {},
   "outputs": [
    {
     "name": "stdout",
     "output_type": "stream",
     "text": [
      "['Dst Port', 'Fwd Pkts/s', 'Init Bwd Win Byts', 'Fwd Seg Size Min', 'Init Fwd Win Byts', 'Flow IAT Mean', 'Flow Pkts/s', 'URG Flag Cnt', 'Tot Bwd Pkts', 'TotLen Fwd Pkts', 'Fwd IAT Max', 'Pkt Len Mean', 'Bwd Pkts/s', 'Down/Up Ratio', 'Fwd Pkt Len Max', 'Subflow Bwd Byts', 'Pkt Len Max', 'Bwd Header Len', 'PSH Flag Cnt', 'Fwd IAT Mean']\n"
     ]
    }
   ],
   "source": [
    "print(top_features)"
   ]
  },
  {
   "cell_type": "markdown",
   "id": "279288d3",
   "metadata": {},
   "source": [
    "Scaling"
   ]
  },
  {
   "cell_type": "code",
   "execution_count": 80,
   "id": "97d44d70",
   "metadata": {},
   "outputs": [
    {
     "name": "stdout",
     "output_type": "stream",
     "text": [
      "Scaler Mean: [3.78964250e+03 1.85436796e+05 4.81634600e+03 2.61063149e+01\n",
      " 1.26761986e+04 1.48521106e+06 3.59584731e+05 1.48802862e-01\n",
      " 6.93587380e+00 4.69133450e+02 7.31058277e+06 5.47119924e+01\n",
      " 1.73372839e+05 7.12047095e-01 1.70939048e+02 3.65607136e+03\n",
      " 3.16064563e+02 1.75914188e+02 5.76079392e-01 1.63540899e+06]\n",
      "Scaler Std: [1.28830011e+04 3.28173088e+05 1.62226738e+04 1.12650075e+01\n",
      " 1.32757982e+04 1.71065705e+07 6.11227380e+05 3.55894044e-01\n",
      " 9.27214556e+01 1.75680591e+04 2.00402014e+09 9.24685880e+01\n",
      " 3.00556025e+05 5.30725972e-01 2.95301572e+02 1.33756018e+05\n",
      " 4.92992737e+02 1.86393851e+03 4.94178031e-01 1.71512124e+07]\n"
     ]
    }
   ],
   "source": [
    "# Scale selected features\n",
    "scaler = StandardScaler()\n",
    "X_train_scaled = scaler.fit_transform(X_train)\n",
    "X_test_scaled = scaler.transform(X_test)\n",
    "joblib.dump(scaler, 'scaler.pkl')\n",
    "print(\"Scaler Mean:\", scaler.mean_)\n",
    "print(\"Scaler Std:\", scaler.scale_)"
   ]
  },
  {
   "cell_type": "markdown",
   "id": "4751ba80",
   "metadata": {},
   "source": [
    "Train the Model"
   ]
  },
  {
   "cell_type": "code",
   "execution_count": 81,
   "id": "8965d8ca",
   "metadata": {},
   "outputs": [
    {
     "name": "stdout",
     "output_type": "stream",
     "text": [
      "Cross-Validation F1: 0.9999619771870296 ± 1.8556799127515164e-05\n"
     ]
    },
    {
     "name": "stderr",
     "output_type": "stream",
     "text": [
      "c:\\Users\\anish\\Desktop\\TFproj\\tfvenv\\Lib\\site-packages\\sklearn\\utils\\validation.py:2732: UserWarning: X has feature names, but RandomForestClassifier was fitted without feature names\n",
      "  return\n"
     ]
    },
    {
     "name": "stdout",
     "output_type": "stream",
     "text": [
      "Accuracy: 0.49618451853517254\n",
      "Precision: 0.24619907643398098\n",
      "Recall: 0.49618451853517254\n",
      "F1-Score: 0.3291025583863415\n",
      "              precision    recall  f1-score   support\n",
      "\n",
      "           0       0.50      1.00      0.66     75036\n",
      "           1       0.00      0.00      0.00     38672\n",
      "           2       0.00      0.00      0.00     37518\n",
      "\n",
      "    accuracy                           0.50    151226\n",
      "   macro avg       0.17      0.33      0.22    151226\n",
      "weighted avg       0.25      0.50      0.33    151226\n",
      "\n"
     ]
    },
    {
     "name": "stderr",
     "output_type": "stream",
     "text": [
      "c:\\Users\\anish\\Desktop\\TFproj\\tfvenv\\Lib\\site-packages\\sklearn\\metrics\\_classification.py:1565: UndefinedMetricWarning: Precision is ill-defined and being set to 0.0 in labels with no predicted samples. Use `zero_division` parameter to control this behavior.\n",
      "  The class to report if `average='binary'` and the data is binary,\n",
      "c:\\Users\\anish\\Desktop\\TFproj\\tfvenv\\Lib\\site-packages\\sklearn\\metrics\\_classification.py:1565: UndefinedMetricWarning: Precision is ill-defined and being set to 0.0 in labels with no predicted samples. Use `zero_division` parameter to control this behavior.\n",
      "  The class to report if `average='binary'` and the data is binary,\n",
      "c:\\Users\\anish\\Desktop\\TFproj\\tfvenv\\Lib\\site-packages\\sklearn\\metrics\\_classification.py:1565: UndefinedMetricWarning: Precision is ill-defined and being set to 0.0 in labels with no predicted samples. Use `zero_division` parameter to control this behavior.\n",
      "  The class to report if `average='binary'` and the data is binary,\n",
      "c:\\Users\\anish\\Desktop\\TFproj\\tfvenv\\Lib\\site-packages\\sklearn\\metrics\\_classification.py:1565: UndefinedMetricWarning: Precision is ill-defined and being set to 0.0 in labels with no predicted samples. Use `zero_division` parameter to control this behavior.\n",
      "  The class to report if `average='binary'` and the data is binary,\n"
     ]
    },
    {
     "data": {
      "image/png": "[encoded data removed]",
      "text/plain": [
       "<Figure size 640x480 with 2 Axes>"
      ]
     },
     "metadata": {},
     "output_type": "display_data"
    },
    {
     "data": {
      "text/plain": [
       "['ids_model.pkl']"
      ]
     },
     "execution_count": 81,
     "metadata": {},
     "output_type": "execute_result"
    }
   ],
   "source": [
    "from sklearn.ensemble import RandomForestClassifier\n",
    "from sklearn.metrics import accuracy_score, precision_score, recall_score, f1_score, classification_report, confusion_matrix\n",
    "import seaborn as sns\n",
    "from sklearn.model_selection import train_test_split, cross_val_score\n",
    "import matplotlib.pyplot as plt\n",
    "# # Split data\n",
    "# X = data.drop('Label', axis=1)\n",
    "# y = data['Label']\n",
    "# X_train, X_test, y_train, y_test = train_test_split(X, y, test_size=0.2, random_state=42, stratify=y)\n",
    "\n",
    "# # Train RandomForest without SMOTE\n",
    "# clf = RandomForestClassifier(n_estimators=100, random_state=42, class_weight='balanced')\n",
    "# clf.fit(X_train, y_train)  # Use original X_train, y_train\n",
    "\n",
    "# # Evaluate\n",
    "# y_preds = clf.predict(X_test)\n",
    "# print(\"Accuracy:\", accuracy_score(y_test, y_preds))\n",
    "# print(\"Precision:\", precision_score(y_test, y_preds, average='weighted'))\n",
    "# print(\"Recall:\", recall_score(y_test, y_preds, average='weighted'))\n",
    "# print(\"F1-Score:\", f1_score(y_test, y_preds, average='weighted'))\n",
    "# print(classification_report(y_test, y_preds))\n",
    "\n",
    "# Subsample data (20% with stratification)\n",
    "# data_sample = data.groupby('Label', group_keys=False).apply(lambda x: x.sample(frac=0.2, random_state=42))\n",
    "\n",
    "# # Split data\n",
    "# X = data_sample.drop('Label', axis=1)\n",
    "# y = data_sample['Label']\n",
    "# X_train, X_test, y_train, y_test = train_test_split(X, y, test_size=0.2, random_state=42, stratify=y)\n",
    "\n",
    "# # Feature selection (top 20 features)\n",
    "# clf_temp = RandomForestClassifier(n_estimators=10, random_state=42, n_jobs=-1)\n",
    "# clf_temp.fit(X_train, y_train)\n",
    "# top_features = pd.Series(clf_temp.feature_importances_, index=X.columns).sort_values(ascending=False).head(20).index.tolist()\n",
    "# X_train = X_train[top_features]\n",
    "# X_test = X_test[top_features]\n",
    "# joblib.dump(top_features, 'top_features.pkl')\n",
    "\n",
    "# # Train RandomForest with anti-overfitting\n",
    "# clf = RandomForestClassifier(n_estimators=50, max_depth=20, min_samples_split=5, class_weight='balanced', random_state=42, n_jobs=-1)\n",
    "# clf.fit(X_train, y_train)\n",
    "# Train model\n",
    "clf = RandomForestClassifier(n_estimators=100, max_depth=15, min_samples_split=20, \n",
    "                             class_weight={0: 1, 1: 100, 2: 100}, random_state=42, n_jobs=-1)\n",
    "clf.fit(X_train_scaled, y_train)\n",
    "\n",
    "# Cross-validation to check generalization\n",
    "# cv_scores = cross_val_score(clf, X_train, y_train, cv=5, scoring='accuracy')\n",
    "# print(\"Cross-Validation Accuracy:\", cv_scores.mean(), \"±\", cv_scores.std())\n",
    "# Cross-validation\n",
    "cv_scores = cross_val_score(clf, X_train_scaled, y_train, cv=5, scoring='f1_weighted')\n",
    "print(\"Cross-Validation F1:\", cv_scores.mean(), \"±\", cv_scores.std())\n",
    "\n",
    "# Evaluate\n",
    "y_preds = clf.predict(X_test)\n",
    "print(\"Accuracy:\", accuracy_score(y_test, y_preds))\n",
    "print(\"Precision:\", precision_score(y_test, y_preds, average='weighted'))\n",
    "print(\"Recall:\", recall_score(y_test, y_preds, average='weighted'))\n",
    "print(\"F1-Score:\", f1_score(y_test, y_preds, average='weighted'))\n",
    "print(classification_report(y_test, y_preds))\n",
    "\n",
    "# Confusion Matrix\n",
    "cm = confusion_matrix(y_test, y_preds)\n",
    "sns.heatmap(cm, annot=True, fmt='d', cmap='Blues')\n",
    "plt.xlabel('Predicted')\n",
    "plt.ylabel('True')\n",
    "plt.title('Confusion Matrix')\n",
    "plt.show()\n",
    "#0:(Benign) 1:(FTP-BruteForce) 2:(SSH-BruteForce)\n",
    "# Save model\n",
    "joblib.dump(clf, 'ids_model.pkl')"
   ]
  },
  {
   "cell_type": "code",
   "execution_count": 82,
   "id": "7e0cbafa",
   "metadata": {},
   "outputs": [
    {
     "name": "stdout",
     "output_type": "stream",
     "text": [
      "Single Prediction Probabilities: [0.85016524 0.00999807 0.13983669]\n",
      "Scaled Sample: [-2.92450686e-01  2.48211457e+00 -2.95903503e-01 -1.87361748e+00\n",
      " -9.53328638e-01 -8.68201526e-02  1.37496339e+00  1.12392960e+06\n",
      " -7.48033318e-02 -2.66468508e-02 -3.64795873e-03 -5.91680847e-01\n",
      " -5.76840338e-01 -1.34145893e+00 -5.78862303e-01  1.75239117e-02\n",
      " -6.40911191e-01 -1.39029198e-02  3.02368603e+02 -9.51774691e-02]\n",
      "Prediction: Benign (Confidence: 0.1398)\n"
     ]
    },
    {
     "name": "stderr",
     "output_type": "stream",
     "text": [
      "c:\\Users\\anish\\Desktop\\TFproj\\tfvenv\\Lib\\site-packages\\sklearn\\utils\\validation.py:2739: UserWarning: X does not have valid feature names, but StandardScaler was fitted with feature names\n",
      "  return\n"
     ]
    }
   ],
   "source": [
    "import pandas as pd\n",
    "import numpy as np\n",
    "import joblib\n",
    "\n",
    "# Load model, scaler, and top features\n",
    "model = joblib.load('ids_model.pkl')\n",
    "scaler = joblib.load('scaler.pkl')\n",
    "top_features = joblib.load('top_features.pkl')\n",
    "\n",
    "# Test attack-like input\n",
    "sample = np.array([22, 1000000, 16, 5, 20, 16, 1200000, 400000, 0, 1, 0.0001, 0.0001, 0.0001, 0.0001, 0.0001, 6000, 0.1, 150, 150, 3000]).reshape(1, -1)\n",
    "sample_scaled = scaler.transform(sample)\n",
    "probs = clf.predict_proba(sample_scaled)[0]\n",
    "print(\"Single Prediction Probabilities:\", probs)\n",
    "print(\"Scaled Sample:\", sample_scaled[0])\n",
    "print(\"Prediction:\", \"Benign\" if probs.argmax() == 0 else \"Anomaly/Attack\", f\"(Confidence: {max(probs[1], probs[2]):.4f})\")"
   ]
  },
  {
   "cell_type": "code",
   "execution_count": null,
   "id": "e9ef2a73",
   "metadata": {},
   "outputs": [],
   "source": []
  }
 ],
 "metadata": {
  "kernelspec": {
   "display_name": "tfkernel",
   "language": "python",
   "name": "tfkernel"
  },
  "language_info": {
   "codemirror_mode": {
    "name": "ipython",
    "version": 3
   },
   "file_extension": ".py",
   "mimetype": "text/x-python",
   "name": "python",
   "nbconvert_exporter": "python",
   "pygments_lexer": "ipython3",
   "version": "3.12.4"
  }
 },
 "nbformat": 4,
 "nbformat_minor": 5
}
