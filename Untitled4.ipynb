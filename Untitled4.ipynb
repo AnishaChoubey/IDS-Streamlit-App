{
 "cells": [
  {
   "cell_type": "markdown",
   "id": "788b2365",
   "metadata": {},
   "source": [
    "**Importing libraries**"
   ]
  },
  {
   "cell_type": "code",
   "execution_count": 12,
   "id": "1e7bfef5",
   "metadata": {},
   "outputs": [],
   "source": [
    "import pandas as pd\n",
    "import numpy as np\n",
    "import sklearn\n",
    "from sklearn.preprocessing import LabelEncoder, StandardScaler\n",
    "from sklearn.model_selection import train_test_split, cross_val_score\n",
    "from sklearn.ensemble import RandomForestClassifier\n",
    "from sklearn.metrics import accuracy_score, precision_score, recall_score, f1_score, classification_report, confusion_matrix, roc_auc_score\n",
    "from sklearn.utils.class_weight import compute_class_weight\n",
    "import seaborn as sns\n",
    "import matplotlib.pyplot as plt\n",
    "import joblib\n",
    "\n",
    "# Optional for oversampling instead of undersampling\n",
    "from imblearn.over_sampling import SMOTE  \n"
   ]
  },
  {
   "cell_type": "markdown",
   "id": "574c4fb8",
   "metadata": {},
   "source": [
    "**Load Data**"
   ]
  },
  {
   "cell_type": "code",
   "execution_count": 13,
   "id": "90a7cbac",
   "metadata": {
    "scrolled": true
   },
   "outputs": [
    {
     "name": "stdout",
     "output_type": "stream",
     "text": [
      "(1048575, 80)\n"
     ]
    },
    {
     "data": {
      "text/html": [
       "<div>\n",
       "<style scoped>\n",
       "    .dataframe tbody tr th:only-of-type {\n",
       "        vertical-align: middle;\n",
       "    }\n",
       "\n",
       "    .dataframe tbody tr th {\n",
       "        vertical-align: top;\n",
       "    }\n",
       "\n",
       "    .dataframe thead th {\n",
       "        text-align: right;\n",
       "    }\n",
       "</style>\n",
       "<table border=\"1\" class=\"dataframe\">\n",
       "  <thead>\n",
       "    <tr style=\"text-align: right;\">\n",
       "      <th></th>\n",
       "      <th>Dst Port</th>\n",
       "      <th>Protocol</th>\n",
       "      <th>Timestamp</th>\n",
       "      <th>Flow Duration</th>\n",
       "      <th>Tot Fwd Pkts</th>\n",
       "      <th>Tot Bwd Pkts</th>\n",
       "      <th>TotLen Fwd Pkts</th>\n",
       "      <th>TotLen Bwd Pkts</th>\n",
       "      <th>Fwd Pkt Len Max</th>\n",
       "      <th>Fwd Pkt Len Min</th>\n",
       "      <th>...</th>\n",
       "      <th>Fwd Seg Size Min</th>\n",
       "      <th>Active Mean</th>\n",
       "      <th>Active Std</th>\n",
       "      <th>Active Max</th>\n",
       "      <th>Active Min</th>\n",
       "      <th>Idle Mean</th>\n",
       "      <th>Idle Std</th>\n",
       "      <th>Idle Max</th>\n",
       "      <th>Idle Min</th>\n",
       "      <th>Label</th>\n",
       "    </tr>\n",
       "  </thead>\n",
       "  <tbody>\n",
       "    <tr>\n",
       "      <th>0</th>\n",
       "      <td>0</td>\n",
       "      <td>0</td>\n",
       "      <td>14/02/2018 08:31:01</td>\n",
       "      <td>112641719</td>\n",
       "      <td>3</td>\n",
       "      <td>0</td>\n",
       "      <td>0</td>\n",
       "      <td>0</td>\n",
       "      <td>0</td>\n",
       "      <td>0</td>\n",
       "      <td>...</td>\n",
       "      <td>0</td>\n",
       "      <td>0.0</td>\n",
       "      <td>0.0</td>\n",
       "      <td>0</td>\n",
       "      <td>0</td>\n",
       "      <td>56320859.5</td>\n",
       "      <td>139.300036</td>\n",
       "      <td>56320958</td>\n",
       "      <td>56320761</td>\n",
       "      <td>Benign</td>\n",
       "    </tr>\n",
       "    <tr>\n",
       "      <th>1</th>\n",
       "      <td>0</td>\n",
       "      <td>0</td>\n",
       "      <td>14/02/2018 08:33:50</td>\n",
       "      <td>112641466</td>\n",
       "      <td>3</td>\n",
       "      <td>0</td>\n",
       "      <td>0</td>\n",
       "      <td>0</td>\n",
       "      <td>0</td>\n",
       "      <td>0</td>\n",
       "      <td>...</td>\n",
       "      <td>0</td>\n",
       "      <td>0.0</td>\n",
       "      <td>0.0</td>\n",
       "      <td>0</td>\n",
       "      <td>0</td>\n",
       "      <td>56320733.0</td>\n",
       "      <td>114.551299</td>\n",
       "      <td>56320814</td>\n",
       "      <td>56320652</td>\n",
       "      <td>Benign</td>\n",
       "    </tr>\n",
       "    <tr>\n",
       "      <th>2</th>\n",
       "      <td>0</td>\n",
       "      <td>0</td>\n",
       "      <td>14/02/2018 08:36:39</td>\n",
       "      <td>112638623</td>\n",
       "      <td>3</td>\n",
       "      <td>0</td>\n",
       "      <td>0</td>\n",
       "      <td>0</td>\n",
       "      <td>0</td>\n",
       "      <td>0</td>\n",
       "      <td>...</td>\n",
       "      <td>0</td>\n",
       "      <td>0.0</td>\n",
       "      <td>0.0</td>\n",
       "      <td>0</td>\n",
       "      <td>0</td>\n",
       "      <td>56319311.5</td>\n",
       "      <td>301.934596</td>\n",
       "      <td>56319525</td>\n",
       "      <td>56319098</td>\n",
       "      <td>Benign</td>\n",
       "    </tr>\n",
       "    <tr>\n",
       "      <th>3</th>\n",
       "      <td>22</td>\n",
       "      <td>6</td>\n",
       "      <td>14/02/2018 08:40:13</td>\n",
       "      <td>6453966</td>\n",
       "      <td>15</td>\n",
       "      <td>10</td>\n",
       "      <td>1239</td>\n",
       "      <td>2273</td>\n",
       "      <td>744</td>\n",
       "      <td>0</td>\n",
       "      <td>...</td>\n",
       "      <td>32</td>\n",
       "      <td>0.0</td>\n",
       "      <td>0.0</td>\n",
       "      <td>0</td>\n",
       "      <td>0</td>\n",
       "      <td>0.0</td>\n",
       "      <td>0.000000</td>\n",
       "      <td>0</td>\n",
       "      <td>0</td>\n",
       "      <td>Benign</td>\n",
       "    </tr>\n",
       "    <tr>\n",
       "      <th>4</th>\n",
       "      <td>22</td>\n",
       "      <td>6</td>\n",
       "      <td>14/02/2018 08:40:23</td>\n",
       "      <td>8804066</td>\n",
       "      <td>14</td>\n",
       "      <td>11</td>\n",
       "      <td>1143</td>\n",
       "      <td>2209</td>\n",
       "      <td>744</td>\n",
       "      <td>0</td>\n",
       "      <td>...</td>\n",
       "      <td>32</td>\n",
       "      <td>0.0</td>\n",
       "      <td>0.0</td>\n",
       "      <td>0</td>\n",
       "      <td>0</td>\n",
       "      <td>0.0</td>\n",
       "      <td>0.000000</td>\n",
       "      <td>0</td>\n",
       "      <td>0</td>\n",
       "      <td>Benign</td>\n",
       "    </tr>\n",
       "    <tr>\n",
       "      <th>5</th>\n",
       "      <td>22</td>\n",
       "      <td>6</td>\n",
       "      <td>14/02/2018 08:40:31</td>\n",
       "      <td>6989341</td>\n",
       "      <td>16</td>\n",
       "      <td>12</td>\n",
       "      <td>1239</td>\n",
       "      <td>2273</td>\n",
       "      <td>744</td>\n",
       "      <td>0</td>\n",
       "      <td>...</td>\n",
       "      <td>20</td>\n",
       "      <td>0.0</td>\n",
       "      <td>0.0</td>\n",
       "      <td>0</td>\n",
       "      <td>0</td>\n",
       "      <td>0.0</td>\n",
       "      <td>0.000000</td>\n",
       "      <td>0</td>\n",
       "      <td>0</td>\n",
       "      <td>Benign</td>\n",
       "    </tr>\n",
       "    <tr>\n",
       "      <th>6</th>\n",
       "      <td>0</td>\n",
       "      <td>0</td>\n",
       "      <td>14/02/2018 08:39:28</td>\n",
       "      <td>112640480</td>\n",
       "      <td>3</td>\n",
       "      <td>0</td>\n",
       "      <td>0</td>\n",
       "      <td>0</td>\n",
       "      <td>0</td>\n",
       "      <td>0</td>\n",
       "      <td>...</td>\n",
       "      <td>0</td>\n",
       "      <td>0.0</td>\n",
       "      <td>0.0</td>\n",
       "      <td>0</td>\n",
       "      <td>0</td>\n",
       "      <td>56320240.0</td>\n",
       "      <td>203.646753</td>\n",
       "      <td>56320384</td>\n",
       "      <td>56320096</td>\n",
       "      <td>Benign</td>\n",
       "    </tr>\n",
       "    <tr>\n",
       "      <th>7</th>\n",
       "      <td>0</td>\n",
       "      <td>0</td>\n",
       "      <td>14/02/2018 08:42:17</td>\n",
       "      <td>112641244</td>\n",
       "      <td>3</td>\n",
       "      <td>0</td>\n",
       "      <td>0</td>\n",
       "      <td>0</td>\n",
       "      <td>0</td>\n",
       "      <td>0</td>\n",
       "      <td>...</td>\n",
       "      <td>0</td>\n",
       "      <td>0.0</td>\n",
       "      <td>0.0</td>\n",
       "      <td>0</td>\n",
       "      <td>0</td>\n",
       "      <td>56320622.0</td>\n",
       "      <td>62.225397</td>\n",
       "      <td>56320666</td>\n",
       "      <td>56320578</td>\n",
       "      <td>Benign</td>\n",
       "    </tr>\n",
       "    <tr>\n",
       "      <th>8</th>\n",
       "      <td>80</td>\n",
       "      <td>6</td>\n",
       "      <td>14/02/2018 08:47:14</td>\n",
       "      <td>476513</td>\n",
       "      <td>5</td>\n",
       "      <td>3</td>\n",
       "      <td>211</td>\n",
       "      <td>463</td>\n",
       "      <td>211</td>\n",
       "      <td>0</td>\n",
       "      <td>...</td>\n",
       "      <td>32</td>\n",
       "      <td>0.0</td>\n",
       "      <td>0.0</td>\n",
       "      <td>0</td>\n",
       "      <td>0</td>\n",
       "      <td>0.0</td>\n",
       "      <td>0.000000</td>\n",
       "      <td>0</td>\n",
       "      <td>0</td>\n",
       "      <td>Benign</td>\n",
       "    </tr>\n",
       "    <tr>\n",
       "      <th>9</th>\n",
       "      <td>80</td>\n",
       "      <td>6</td>\n",
       "      <td>14/02/2018 08:47:15</td>\n",
       "      <td>475048</td>\n",
       "      <td>5</td>\n",
       "      <td>3</td>\n",
       "      <td>220</td>\n",
       "      <td>472</td>\n",
       "      <td>220</td>\n",
       "      <td>0</td>\n",
       "      <td>...</td>\n",
       "      <td>32</td>\n",
       "      <td>0.0</td>\n",
       "      <td>0.0</td>\n",
       "      <td>0</td>\n",
       "      <td>0</td>\n",
       "      <td>0.0</td>\n",
       "      <td>0.000000</td>\n",
       "      <td>0</td>\n",
       "      <td>0</td>\n",
       "      <td>Benign</td>\n",
       "    </tr>\n",
       "  </tbody>\n",
       "</table>\n",
       "<p>10 rows × 80 columns</p>\n",
       "</div>"
      ],
      "text/plain": [
       "   Dst Port  Protocol            Timestamp  Flow Duration  Tot Fwd Pkts  \\\n",
       "0         0         0  14/02/2018 08:31:01      112641719             3   \n",
       "1         0         0  14/02/2018 08:33:50      112641466             3   \n",
       "2         0         0  14/02/2018 08:36:39      112638623             3   \n",
       "3        22         6  14/02/2018 08:40:13        6453966            15   \n",
       "4        22         6  14/02/2018 08:40:23        8804066            14   \n",
       "5        22         6  14/02/2018 08:40:31        6989341            16   \n",
       "6         0         0  14/02/2018 08:39:28      112640480             3   \n",
       "7         0         0  14/02/2018 08:42:17      112641244             3   \n",
       "8        80         6  14/02/2018 08:47:14         476513             5   \n",
       "9        80         6  14/02/2018 08:47:15         475048             5   \n",
       "\n",
       "   Tot Bwd Pkts  TotLen Fwd Pkts  TotLen Bwd Pkts  Fwd Pkt Len Max  \\\n",
       "0             0                0                0                0   \n",
       "1             0                0                0                0   \n",
       "2             0                0                0                0   \n",
       "3            10             1239             2273              744   \n",
       "4            11             1143             2209              744   \n",
       "5            12             1239             2273              744   \n",
       "6             0                0                0                0   \n",
       "7             0                0                0                0   \n",
       "8             3              211              463              211   \n",
       "9             3              220              472              220   \n",
       "\n",
       "   Fwd Pkt Len Min  ...  Fwd Seg Size Min  Active Mean  Active Std  \\\n",
       "0                0  ...                 0          0.0         0.0   \n",
       "1                0  ...                 0          0.0         0.0   \n",
       "2                0  ...                 0          0.0         0.0   \n",
       "3                0  ...                32          0.0         0.0   \n",
       "4                0  ...                32          0.0         0.0   \n",
       "5                0  ...                20          0.0         0.0   \n",
       "6                0  ...                 0          0.0         0.0   \n",
       "7                0  ...                 0          0.0         0.0   \n",
       "8                0  ...                32          0.0         0.0   \n",
       "9                0  ...                32          0.0         0.0   \n",
       "\n",
       "   Active Max  Active Min   Idle Mean    Idle Std  Idle Max  Idle Min   Label  \n",
       "0           0           0  56320859.5  139.300036  56320958  56320761  Benign  \n",
       "1           0           0  56320733.0  114.551299  56320814  56320652  Benign  \n",
       "2           0           0  56319311.5  301.934596  56319525  56319098  Benign  \n",
       "3           0           0         0.0    0.000000         0         0  Benign  \n",
       "4           0           0         0.0    0.000000         0         0  Benign  \n",
       "5           0           0         0.0    0.000000         0         0  Benign  \n",
       "6           0           0  56320240.0  203.646753  56320384  56320096  Benign  \n",
       "7           0           0  56320622.0   62.225397  56320666  56320578  Benign  \n",
       "8           0           0         0.0    0.000000         0         0  Benign  \n",
       "9           0           0         0.0    0.000000         0         0  Benign  \n",
       "\n",
       "[10 rows x 80 columns]"
      ]
     },
     "execution_count": 13,
     "metadata": {},
     "output_type": "execute_result"
    }
   ],
   "source": [
    "data = pd.read_csv(r\"C:\\Users\\anish\\Downloads\\IDS\\02-14-2018.csv\\02-14-2018.csv\")\n",
    "print(data.shape)  # (1048575, 80)\n",
    "  # Check dtypes\n",
    "data.head(10)"
   ]
  },
  {
   "cell_type": "code",
   "execution_count": 14,
   "id": "5d111a75",
   "metadata": {},
   "outputs": [
    {
     "name": "stdout",
     "output_type": "stream",
     "text": [
      "<class 'pandas.core.frame.DataFrame'>\n",
      "RangeIndex: 1048575 entries, 0 to 1048574\n",
      "Data columns (total 80 columns):\n",
      " #   Column             Non-Null Count    Dtype  \n",
      "---  ------             --------------    -----  \n",
      " 0   Dst Port           1048575 non-null  int64  \n",
      " 1   Protocol           1048575 non-null  int64  \n",
      " 2   Timestamp          1048575 non-null  object \n",
      " 3   Flow Duration      1048575 non-null  int64  \n",
      " 4   Tot Fwd Pkts       1048575 non-null  int64  \n",
      " 5   Tot Bwd Pkts       1048575 non-null  int64  \n",
      " 6   TotLen Fwd Pkts    1048575 non-null  int64  \n",
      " 7   TotLen Bwd Pkts    1048575 non-null  int64  \n",
      " 8   Fwd Pkt Len Max    1048575 non-null  int64  \n",
      " 9   Fwd Pkt Len Min    1048575 non-null  int64  \n",
      " 10  Fwd Pkt Len Mean   1048575 non-null  float64\n",
      " 11  Fwd Pkt Len Std    1048575 non-null  float64\n",
      " 12  Bwd Pkt Len Max    1048575 non-null  int64  \n",
      " 13  Bwd Pkt Len Min    1048575 non-null  int64  \n",
      " 14  Bwd Pkt Len Mean   1048575 non-null  float64\n",
      " 15  Bwd Pkt Len Std    1048575 non-null  float64\n",
      " 16  Flow Byts/s        1046298 non-null  float64\n",
      " 17  Flow Pkts/s        1048575 non-null  float64\n",
      " 18  Flow IAT Mean      1048575 non-null  float64\n",
      " 19  Flow IAT Std       1048575 non-null  float64\n",
      " 20  Flow IAT Max       1048575 non-null  int64  \n",
      " 21  Flow IAT Min       1048575 non-null  int64  \n",
      " 22  Fwd IAT Tot        1048575 non-null  int64  \n",
      " 23  Fwd IAT Mean       1048575 non-null  float64\n",
      " 24  Fwd IAT Std        1048575 non-null  float64\n",
      " 25  Fwd IAT Max        1048575 non-null  int64  \n",
      " 26  Fwd IAT Min        1048575 non-null  int64  \n",
      " 27  Bwd IAT Tot        1048575 non-null  int64  \n",
      " 28  Bwd IAT Mean       1048575 non-null  float64\n",
      " 29  Bwd IAT Std        1048575 non-null  float64\n",
      " 30  Bwd IAT Max        1048575 non-null  int64  \n",
      " 31  Bwd IAT Min        1048575 non-null  int64  \n",
      " 32  Fwd PSH Flags      1048575 non-null  int64  \n",
      " 33  Bwd PSH Flags      1048575 non-null  int64  \n",
      " 34  Fwd URG Flags      1048575 non-null  int64  \n",
      " 35  Bwd URG Flags      1048575 non-null  int64  \n",
      " 36  Fwd Header Len     1048575 non-null  int64  \n",
      " 37  Bwd Header Len     1048575 non-null  int64  \n",
      " 38  Fwd Pkts/s         1048575 non-null  float64\n",
      " 39  Bwd Pkts/s         1048575 non-null  float64\n",
      " 40  Pkt Len Min        1048575 non-null  int64  \n",
      " 41  Pkt Len Max        1048575 non-null  int64  \n",
      " 42  Pkt Len Mean       1048575 non-null  float64\n",
      " 43  Pkt Len Std        1048575 non-null  float64\n",
      " 44  Pkt Len Var        1048575 non-null  float64\n",
      " 45  FIN Flag Cnt       1048575 non-null  int64  \n",
      " 46  SYN Flag Cnt       1048575 non-null  int64  \n",
      " 47  RST Flag Cnt       1048575 non-null  int64  \n",
      " 48  PSH Flag Cnt       1048575 non-null  int64  \n",
      " 49  ACK Flag Cnt       1048575 non-null  int64  \n",
      " 50  URG Flag Cnt       1048575 non-null  int64  \n",
      " 51  CWE Flag Count     1048575 non-null  int64  \n",
      " 52  ECE Flag Cnt       1048575 non-null  int64  \n",
      " 53  Down/Up Ratio      1048575 non-null  int64  \n",
      " 54  Pkt Size Avg       1048575 non-null  float64\n",
      " 55  Fwd Seg Size Avg   1048575 non-null  float64\n",
      " 56  Bwd Seg Size Avg   1048575 non-null  float64\n",
      " 57  Fwd Byts/b Avg     1048575 non-null  int64  \n",
      " 58  Fwd Pkts/b Avg     1048575 non-null  int64  \n",
      " 59  Fwd Blk Rate Avg   1048575 non-null  int64  \n",
      " 60  Bwd Byts/b Avg     1048575 non-null  int64  \n",
      " 61  Bwd Pkts/b Avg     1048575 non-null  int64  \n",
      " 62  Bwd Blk Rate Avg   1048575 non-null  int64  \n",
      " 63  Subflow Fwd Pkts   1048575 non-null  int64  \n",
      " 64  Subflow Fwd Byts   1048575 non-null  int64  \n",
      " 65  Subflow Bwd Pkts   1048575 non-null  int64  \n",
      " 66  Subflow Bwd Byts   1048575 non-null  int64  \n",
      " 67  Init Fwd Win Byts  1048575 non-null  int64  \n",
      " 68  Init Bwd Win Byts  1048575 non-null  int64  \n",
      " 69  Fwd Act Data Pkts  1048575 non-null  int64  \n",
      " 70  Fwd Seg Size Min   1048575 non-null  int64  \n",
      " 71  Active Mean        1048575 non-null  float64\n",
      " 72  Active Std         1048575 non-null  float64\n",
      " 73  Active Max         1048575 non-null  int64  \n",
      " 74  Active Min         1048575 non-null  int64  \n",
      " 75  Idle Mean          1048575 non-null  float64\n",
      " 76  Idle Std           1048575 non-null  float64\n",
      " 77  Idle Max           1048575 non-null  int64  \n",
      " 78  Idle Min           1048575 non-null  int64  \n",
      " 79  Label              1048575 non-null  object \n",
      "dtypes: float64(24), int64(54), object(2)\n",
      "memory usage: 640.0+ MB\n"
     ]
    }
   ],
   "source": [
    "data.info()"
   ]
  },
  {
   "cell_type": "code",
   "execution_count": 15,
   "id": "f7bb5209",
   "metadata": {},
   "outputs": [
    {
     "name": "stderr",
     "output_type": "stream",
     "text": [
      "c:\\Users\\anish\\Desktop\\TFproj\\tfvenv\\Lib\\site-packages\\pandas\\core\\nanops.py:1016: RuntimeWarning: invalid value encountered in subtract\n",
      "  sqr = _ensure_numeric((avg - values) ** 2)\n",
      "c:\\Users\\anish\\Desktop\\TFproj\\tfvenv\\Lib\\site-packages\\pandas\\core\\nanops.py:1016: RuntimeWarning: invalid value encountered in subtract\n",
      "  sqr = _ensure_numeric((avg - values) ** 2)\n"
     ]
    },
    {
     "data": {
      "text/html": [
       "<div>\n",
       "<style scoped>\n",
       "    .dataframe tbody tr th:only-of-type {\n",
       "        vertical-align: middle;\n",
       "    }\n",
       "\n",
       "    .dataframe tbody tr th {\n",
       "        vertical-align: top;\n",
       "    }\n",
       "\n",
       "    .dataframe thead th {\n",
       "        text-align: right;\n",
       "    }\n",
       "</style>\n",
       "<table border=\"1\" class=\"dataframe\">\n",
       "  <thead>\n",
       "    <tr style=\"text-align: right;\">\n",
       "      <th></th>\n",
       "      <th>count</th>\n",
       "      <th>mean</th>\n",
       "      <th>std</th>\n",
       "      <th>min</th>\n",
       "      <th>25%</th>\n",
       "      <th>50%</th>\n",
       "      <th>75%</th>\n",
       "      <th>max</th>\n",
       "    </tr>\n",
       "  </thead>\n",
       "  <tbody>\n",
       "    <tr>\n",
       "      <th>Dst Port</th>\n",
       "      <td>1048575.0</td>\n",
       "      <td>4.876262e+03</td>\n",
       "      <td>1.444344e+04</td>\n",
       "      <td>0.000000e+00</td>\n",
       "      <td>22.0</td>\n",
       "      <td>53.0</td>\n",
       "      <td>443.0</td>\n",
       "      <td>6.553300e+04</td>\n",
       "    </tr>\n",
       "    <tr>\n",
       "      <th>Protocol</th>\n",
       "      <td>1048575.0</td>\n",
       "      <td>8.107557e+00</td>\n",
       "      <td>4.460625e+00</td>\n",
       "      <td>0.000000e+00</td>\n",
       "      <td>6.0</td>\n",
       "      <td>6.0</td>\n",
       "      <td>6.0</td>\n",
       "      <td>1.700000e+01</td>\n",
       "    </tr>\n",
       "    <tr>\n",
       "      <th>Flow Duration</th>\n",
       "      <td>1048575.0</td>\n",
       "      <td>6.255555e+06</td>\n",
       "      <td>1.260291e+09</td>\n",
       "      <td>-9.190110e+11</td>\n",
       "      <td>7.0</td>\n",
       "      <td>1023.0</td>\n",
       "      <td>406669.0</td>\n",
       "      <td>1.200000e+08</td>\n",
       "    </tr>\n",
       "    <tr>\n",
       "      <th>Tot Fwd Pkts</th>\n",
       "      <td>1048575.0</td>\n",
       "      <td>6.206622e+00</td>\n",
       "      <td>4.447851e+01</td>\n",
       "      <td>1.000000e+00</td>\n",
       "      <td>1.0</td>\n",
       "      <td>2.0</td>\n",
       "      <td>7.0</td>\n",
       "      <td>5.115000e+03</td>\n",
       "    </tr>\n",
       "    <tr>\n",
       "      <th>Tot Bwd Pkts</th>\n",
       "      <td>1048575.0</td>\n",
       "      <td>7.211191e+00</td>\n",
       "      <td>1.048682e+02</td>\n",
       "      <td>0.000000e+00</td>\n",
       "      <td>1.0</td>\n",
       "      <td>1.0</td>\n",
       "      <td>6.0</td>\n",
       "      <td>9.198000e+03</td>\n",
       "    </tr>\n",
       "    <tr>\n",
       "      <th>...</th>\n",
       "      <td>...</td>\n",
       "      <td>...</td>\n",
       "      <td>...</td>\n",
       "      <td>...</td>\n",
       "      <td>...</td>\n",
       "      <td>...</td>\n",
       "      <td>...</td>\n",
       "      <td>...</td>\n",
       "    </tr>\n",
       "    <tr>\n",
       "      <th>Active Min</th>\n",
       "      <td>1048575.0</td>\n",
       "      <td>3.995477e+04</td>\n",
       "      <td>5.602693e+05</td>\n",
       "      <td>0.000000e+00</td>\n",
       "      <td>0.0</td>\n",
       "      <td>0.0</td>\n",
       "      <td>0.0</td>\n",
       "      <td>1.102401e+08</td>\n",
       "    </tr>\n",
       "    <tr>\n",
       "      <th>Idle Mean</th>\n",
       "      <td>1048575.0</td>\n",
       "      <td>3.101206e+06</td>\n",
       "      <td>5.414780e+08</td>\n",
       "      <td>0.000000e+00</td>\n",
       "      <td>0.0</td>\n",
       "      <td>0.0</td>\n",
       "      <td>0.0</td>\n",
       "      <td>3.394503e+11</td>\n",
       "    </tr>\n",
       "    <tr>\n",
       "      <th>Idle Std</th>\n",
       "      <td>1048575.0</td>\n",
       "      <td>7.297218e+05</td>\n",
       "      <td>3.820031e+08</td>\n",
       "      <td>0.000000e+00</td>\n",
       "      <td>0.0</td>\n",
       "      <td>0.0</td>\n",
       "      <td>0.0</td>\n",
       "      <td>2.432682e+11</td>\n",
       "    </tr>\n",
       "    <tr>\n",
       "      <th>Idle Max</th>\n",
       "      <td>1048575.0</td>\n",
       "      <td>4.812391e+06</td>\n",
       "      <td>1.522117e+09</td>\n",
       "      <td>0.000000e+00</td>\n",
       "      <td>0.0</td>\n",
       "      <td>0.0</td>\n",
       "      <td>0.0</td>\n",
       "      <td>9.797810e+11</td>\n",
       "    </tr>\n",
       "    <tr>\n",
       "      <th>Idle Min</th>\n",
       "      <td>1048575.0</td>\n",
       "      <td>2.126920e+06</td>\n",
       "      <td>1.817013e+07</td>\n",
       "      <td>0.000000e+00</td>\n",
       "      <td>0.0</td>\n",
       "      <td>0.0</td>\n",
       "      <td>0.0</td>\n",
       "      <td>1.260300e+10</td>\n",
       "    </tr>\n",
       "  </tbody>\n",
       "</table>\n",
       "<p>78 rows × 8 columns</p>\n",
       "</div>"
      ],
      "text/plain": [
       "                   count          mean           std           min   25%  \\\n",
       "Dst Port       1048575.0  4.876262e+03  1.444344e+04  0.000000e+00  22.0   \n",
       "Protocol       1048575.0  8.107557e+00  4.460625e+00  0.000000e+00   6.0   \n",
       "Flow Duration  1048575.0  6.255555e+06  1.260291e+09 -9.190110e+11   7.0   \n",
       "Tot Fwd Pkts   1048575.0  6.206622e+00  4.447851e+01  1.000000e+00   1.0   \n",
       "Tot Bwd Pkts   1048575.0  7.211191e+00  1.048682e+02  0.000000e+00   1.0   \n",
       "...                  ...           ...           ...           ...   ...   \n",
       "Active Min     1048575.0  3.995477e+04  5.602693e+05  0.000000e+00   0.0   \n",
       "Idle Mean      1048575.0  3.101206e+06  5.414780e+08  0.000000e+00   0.0   \n",
       "Idle Std       1048575.0  7.297218e+05  3.820031e+08  0.000000e+00   0.0   \n",
       "Idle Max       1048575.0  4.812391e+06  1.522117e+09  0.000000e+00   0.0   \n",
       "Idle Min       1048575.0  2.126920e+06  1.817013e+07  0.000000e+00   0.0   \n",
       "\n",
       "                  50%       75%           max  \n",
       "Dst Port         53.0     443.0  6.553300e+04  \n",
       "Protocol          6.0       6.0  1.700000e+01  \n",
       "Flow Duration  1023.0  406669.0  1.200000e+08  \n",
       "Tot Fwd Pkts      2.0       7.0  5.115000e+03  \n",
       "Tot Bwd Pkts      1.0       6.0  9.198000e+03  \n",
       "...               ...       ...           ...  \n",
       "Active Min        0.0       0.0  1.102401e+08  \n",
       "Idle Mean         0.0       0.0  3.394503e+11  \n",
       "Idle Std          0.0       0.0  2.432682e+11  \n",
       "Idle Max          0.0       0.0  9.797810e+11  \n",
       "Idle Min          0.0       0.0  1.260300e+10  \n",
       "\n",
       "[78 rows x 8 columns]"
      ]
     },
     "execution_count": 15,
     "metadata": {},
     "output_type": "execute_result"
    }
   ],
   "source": [
    "data.describe().T"
   ]
  },
  {
   "cell_type": "code",
   "execution_count": 16,
   "id": "254c333f",
   "metadata": {},
   "outputs": [
    {
     "data": {
      "text/plain": [
       "Label\n",
       "Benign            667626\n",
       "FTP-BruteForce    193360\n",
       "SSH-Bruteforce    187589\n",
       "Name: count, dtype: int64"
      ]
     },
     "execution_count": 16,
     "metadata": {},
     "output_type": "execute_result"
    }
   ],
   "source": [
    "data['Label'].value_counts()"
   ]
  },
  {
   "cell_type": "code",
   "execution_count": 17,
   "id": "d08734be",
   "metadata": {},
   "outputs": [
    {
     "data": {
      "image/png": "[encoded data removed]",
      "text/plain": [
       "<Figure size 800x600 with 1 Axes>"
      ]
     },
     "metadata": {},
     "output_type": "display_data"
    }
   ],
   "source": [
    "def bar_graph(feature):\n",
    "    data[feature].value_counts().plot(kind='bar')\n",
    "\n",
    "plt.rcParams['figure.figsize']=[8,6]\n",
    "bar_graph(\"Label\")"
   ]
  },
  {
   "cell_type": "code",
   "execution_count": 18,
   "id": "12c51fd6",
   "metadata": {},
   "outputs": [
    {
     "data": {
      "image/png": "[encoded data removed]",
      "text/plain": [
       "<Figure size 800x600 with 1 Axes>"
      ]
     },
     "metadata": {},
     "output_type": "display_data"
    }
   ],
   "source": [
    "import matplotlib.pyplot as plt\n",
    "plt.figure(figsize=(8,6))\n",
    "labels=data['Label'].unique()\n",
    "sizes=data['Label'].value_counts()\n",
    "explode=(0.1,)*len(labels)\n",
    "\n",
    "plt.pie(sizes,labels=labels,autopct='%0.2f%%',explode=explode,startangle=90)\n",
    "plt.title('Pie char distribution of normal and abnormal')\n",
    "plt.legend(labels,loc='best')\n",
    "plt.show()"
   ]
  },
  {
   "cell_type": "code",
   "execution_count": null,
   "id": "52c2233a",
   "metadata": {},
   "outputs": [],
   "source": [
    "\n",
    "\n"
   ]
  },
  {
   "cell_type": "markdown",
   "id": "ab4086c2",
   "metadata": {},
   "source": [
    "**Handling Missing Values and Infinities**"
   ]
  },
  {
   "cell_type": "code",
   "execution_count": 19,
   "id": "c82ff3ac",
   "metadata": {},
   "outputs": [],
   "source": [
    "# # Replace inf with NaN, then fill NaNs\n",
    "# data.replace([np.inf, -np.inf], np.nan, inplace=True)\n",
    "\n",
    "# Replace infinities, drop duplicates and missing values\n",
    "data.replace([np.inf, -np.inf], np.nan, inplace=True)\n",
    "data.drop_duplicates(inplace=True)\n",
    "data.dropna(inplace=True)\n"
   ]
  },
  {
   "cell_type": "code",
   "execution_count": 20,
   "id": "67802037",
   "metadata": {},
   "outputs": [
    {
     "data": {
      "text/plain": [
       "(819126, 80)"
      ]
     },
     "execution_count": 20,
     "metadata": {},
     "output_type": "execute_result"
    }
   ],
   "source": [
    "data.shape"
   ]
  },
  {
   "cell_type": "markdown",
   "id": "63ee5a29",
   "metadata": {},
   "source": [
    "**Data Formatting and Encoding**"
   ]
  },
  {
   "cell_type": "code",
   "execution_count": 21,
   "id": "e79e3665",
   "metadata": {},
   "outputs": [
    {
     "name": "stdout",
     "output_type": "stream",
     "text": [
      "Label Mapping: {'Benign': np.int64(0), 'FTP-BruteForce': np.int64(1), 'SSH-Bruteforce': np.int64(2)}\n"
     ]
    },
    {
     "data": {
      "text/plain": [
       "['label_encoder.pkl']"
      ]
     },
     "execution_count": 21,
     "metadata": {},
     "output_type": "execute_result"
    }
   ],
   "source": [
    "# Encode labels\n",
    "le = LabelEncoder()\n",
    "data['Label'] = le.fit_transform(data['Label'])\n",
    "\n",
    "# Save mapping\n",
    "label_mapping = dict(zip(le.classes_, le.transform(le.classes_)))\n",
    "print(\"Label Mapping:\", label_mapping)\n",
    "\n",
    "joblib.dump(le, \"label_encoder.pkl\")\n"
   ]
  },
  {
   "cell_type": "code",
   "execution_count": 22,
   "id": "328ddd2b",
   "metadata": {},
   "outputs": [
    {
     "name": "stdout",
     "output_type": "stream",
     "text": [
      "Original Class Distribution: Label\n",
      "0    662458\n",
      "2    117322\n",
      "1     39346\n",
      "Name: count, dtype: int64\n"
     ]
    }
   ],
   "source": [
    "# Verify class distribution\n",
    "print(\"Original Class Distribution:\", data['Label'].value_counts())\n",
    "data.drop('Timestamp', axis=1, inplace=True, errors='ignore')"
   ]
  },
  {
   "cell_type": "markdown",
   "id": "a2613b59",
   "metadata": {},
   "source": [
    "Subsample and split data into test and train"
   ]
  },
  {
   "cell_type": "code",
   "execution_count": 23,
   "id": "4f85ed63",
   "metadata": {},
   "outputs": [
    {
     "name": "stdout",
     "output_type": "stream",
     "text": [
      "Class Distribution (Train):\n",
      "Label\n",
      "0    529966\n",
      "2     93857\n",
      "1     31477\n",
      "Name: count, dtype: int64\n"
     ]
    }
   ],
   "source": [
    "X = data.drop('Label', axis=1)\n",
    "y = data['Label']\n",
    "\n",
    "X_train, X_test, y_train, y_test = train_test_split(\n",
    "    X, y, test_size=0.2, random_state=42, stratify=y\n",
    ")\n",
    "\n",
    "print(\"Class Distribution (Train):\")\n",
    "print(y_train.value_counts())\n",
    "\n"
   ]
  },
  {
   "cell_type": "code",
   "execution_count": 24,
   "id": "cfebdfc8",
   "metadata": {},
   "outputs": [
    {
     "name": "stdout",
     "output_type": "stream",
     "text": [
      "Balanced Class Distribution (Train):\n",
      "Label\n",
      "0    529966\n",
      "2    529966\n",
      "1    529966\n",
      "Name: count, dtype: int64\n"
     ]
    }
   ],
   "source": [
    "# from imblearn.under_sampling import RandomUnderSampler\n",
    "# # Step 2: Apply undersampling ONLY on training set\n",
    "# rus = RandomUnderSampler(random_state=42)\n",
    "# X_train_res, y_train_res = rus.fit_resample(X_train, y_train)\n",
    "\n",
    "# print(\"\\nAfter undersampling (train set):\")\n",
    "# print(y_train_res.value_counts())\n",
    "USE_SMOTE = True  # Change to False if you want undersampling\n",
    "\n",
    "if USE_SMOTE:\n",
    "    smote = SMOTE(random_state=42)\n",
    "    X_train_res, y_train_res = smote.fit_resample(X_train, y_train)\n",
    "else:\n",
    "    from imblearn.under_sampling import RandomUnderSampler\n",
    "    rus = RandomUnderSampler(random_state=42)\n",
    "    X_train_res, y_train_res = rus.fit_resample(X_train, y_train)\n",
    "\n",
    "print(\"Balanced Class Distribution (Train):\")\n",
    "print(y_train_res.value_counts())\n",
    "\n"
   ]
  },
  {
   "cell_type": "markdown",
   "id": "28715398",
   "metadata": {},
   "source": [
    "Feature Selection"
   ]
  },
  {
   "cell_type": "code",
   "execution_count": 25,
   "id": "26ddf27d",
   "metadata": {},
   "outputs": [
    {
     "data": {
      "text/plain": [
       "['top_features.pkl']"
      ]
     },
     "execution_count": 25,
     "metadata": {},
     "output_type": "execute_result"
    }
   ],
   "source": [
    "rf_temp = RandomForestClassifier(n_estimators=100, random_state=42, n_jobs=-1)\n",
    "rf_temp.fit(X_train_res, y_train_res)\n",
    "\n",
    "feature_importances = pd.Series(rf_temp.feature_importances_, index=X_train_res.columns)\n",
    "top_features = feature_importances.sort_values(ascending=False).head(20).index.tolist()\n",
    "\n",
    "X_train_res = X_train_res[top_features]\n",
    "X_test = X_test[top_features]\n",
    "\n",
    "joblib.dump(top_features, \"top_features.pkl\")\n",
    "\n",
    "\n",
    "\n"
   ]
  },
  {
   "cell_type": "code",
   "execution_count": 26,
   "id": "56ad0796",
   "metadata": {},
   "outputs": [],
   "source": [
    "# #get feature importances\n",
    "# feature_importances=rf_classifier.feature_importances_\n",
    "\n",
    "# #Create the dataframe with feature names and their importances\n",
    "# feature_importance_data=pd.DataFrame({'Feature':X.columns,'Importance':feature_importances})\n",
    "\n",
    "# #Sort the Dataframe by importance in descending order\n",
    "# feature_importance_data=feature_importance_data.sort_values(by='Importance',ascending=False)\n",
    "\n",
    "# #Select the top 20 features\n",
    "# top_features=feature_importance_data.head(20)['Feature'].tolist()\n",
    "\n",
    "# #Filter your original Dataframe to include only the top 20 features\n",
    "# data_top_features=data[top_features+['Label']]\n",
    "# data_top_features.head()\n",
    "# Save top features\n",
    "# joblib.dump(top_features, \"top_features.pkl\")"
   ]
  },
  {
   "cell_type": "code",
   "execution_count": 27,
   "id": "6ea7b0e8",
   "metadata": {},
   "outputs": [
    {
     "data": {
      "text/plain": [
       "['Dst Port',\n",
       " 'Fwd Seg Size Min',\n",
       " 'Bwd Pkts/s',\n",
       " 'Fwd Header Len',\n",
       " 'Init Fwd Win Byts',\n",
       " 'Fwd Act Data Pkts',\n",
       " 'TotLen Fwd Pkts',\n",
       " 'Flow Pkts/s',\n",
       " 'Init Bwd Win Byts',\n",
       " 'Fwd Pkts/s',\n",
       " 'Subflow Fwd Byts',\n",
       " 'Flow IAT Max',\n",
       " 'Bwd Header Len',\n",
       " 'PSH Flag Cnt',\n",
       " 'Flow IAT Mean',\n",
       " 'Flow Duration',\n",
       " 'Subflow Bwd Pkts',\n",
       " 'Subflow Fwd Pkts',\n",
       " 'Tot Fwd Pkts',\n",
       " 'Fwd Pkt Len Max']"
      ]
     },
     "execution_count": 27,
     "metadata": {},
     "output_type": "execute_result"
    }
   ],
   "source": [
    "top_features"
   ]
  },
  {
   "cell_type": "code",
   "execution_count": 28,
   "id": "13b76198",
   "metadata": {},
   "outputs": [],
   "source": [
    "# import matplotlib.pyplot as plt\n",
    "# plt.figure(figsize=(8,6))\n",
    "# plt.barh(top_features,feature_importance_data.head(20)['Importance'],color='skyblue')\n",
    "# plt.xlabel('Importance')\n",
    "# plt.ylabel('Top 20 features')\n",
    "# plt.show()"
   ]
  },
  {
   "cell_type": "markdown",
   "id": "279288d3",
   "metadata": {},
   "source": [
    "Scaling"
   ]
  },
  {
   "cell_type": "code",
   "execution_count": 28,
   "id": "97d44d70",
   "metadata": {},
   "outputs": [
    {
     "data": {
      "text/plain": [
       "['scaler.pkl']"
      ]
     },
     "execution_count": 28,
     "metadata": {},
     "output_type": "execute_result"
    }
   ],
   "source": [
    "scaler = StandardScaler()\n",
    "X_train_scaled = scaler.fit_transform(X_train_res)\n",
    "X_test_scaled = scaler.transform(X_test)\n",
    "\n",
    "joblib.dump(scaler, \"scaler.pkl\")\n"
   ]
  },
  {
   "cell_type": "code",
   "execution_count": 29,
   "id": "14c5a0c3",
   "metadata": {},
   "outputs": [
    {
     "name": "stdout",
     "output_type": "stream",
     "text": [
      "Index(['Dst Port', 'Protocol', 'Flow Duration', 'Tot Fwd Pkts', 'Tot Bwd Pkts',\n",
      "       'TotLen Fwd Pkts', 'TotLen Bwd Pkts', 'Fwd Pkt Len Max',\n",
      "       'Fwd Pkt Len Min', 'Fwd Pkt Len Mean', 'Fwd Pkt Len Std',\n",
      "       'Bwd Pkt Len Max', 'Bwd Pkt Len Min', 'Bwd Pkt Len Mean',\n",
      "       'Bwd Pkt Len Std', 'Flow Byts/s', 'Flow Pkts/s', 'Flow IAT Mean',\n",
      "       'Flow IAT Std', 'Flow IAT Max', 'Flow IAT Min', 'Fwd IAT Tot',\n",
      "       'Fwd IAT Mean', 'Fwd IAT Std', 'Fwd IAT Max', 'Fwd IAT Min',\n",
      "       'Bwd IAT Tot', 'Bwd IAT Mean', 'Bwd IAT Std', 'Bwd IAT Max',\n",
      "       'Bwd IAT Min', 'Fwd PSH Flags', 'Bwd PSH Flags', 'Fwd URG Flags',\n",
      "       'Bwd URG Flags', 'Fwd Header Len', 'Bwd Header Len', 'Fwd Pkts/s',\n",
      "       'Bwd Pkts/s', 'Pkt Len Min', 'Pkt Len Max', 'Pkt Len Mean',\n",
      "       'Pkt Len Std', 'Pkt Len Var', 'FIN Flag Cnt', 'SYN Flag Cnt',\n",
      "       'RST Flag Cnt', 'PSH Flag Cnt', 'ACK Flag Cnt', 'URG Flag Cnt',\n",
      "       'CWE Flag Count', 'ECE Flag Cnt', 'Down/Up Ratio', 'Pkt Size Avg',\n",
      "       'Fwd Seg Size Avg', 'Bwd Seg Size Avg', 'Fwd Byts/b Avg',\n",
      "       'Fwd Pkts/b Avg', 'Fwd Blk Rate Avg', 'Bwd Byts/b Avg',\n",
      "       'Bwd Pkts/b Avg', 'Bwd Blk Rate Avg', 'Subflow Fwd Pkts',\n",
      "       'Subflow Fwd Byts', 'Subflow Bwd Pkts', 'Subflow Bwd Byts',\n",
      "       'Init Fwd Win Byts', 'Init Bwd Win Byts', 'Fwd Act Data Pkts',\n",
      "       'Fwd Seg Size Min', 'Active Mean', 'Active Std', 'Active Max',\n",
      "       'Active Min', 'Idle Mean', 'Idle Std', 'Idle Max', 'Idle Min'],\n",
      "      dtype='object')\n",
      "Label\n"
     ]
    }
   ],
   "source": [
    "print(X_train.columns)\n",
    "print(y_train.name)\n"
   ]
  },
  {
   "cell_type": "markdown",
   "id": "f110386d",
   "metadata": {},
   "source": [
    "Train the model with dyanmic weights"
   ]
  },
  {
   "cell_type": "code",
   "execution_count": 33,
   "id": "b31d9713",
   "metadata": {},
   "outputs": [
    {
     "name": "stdout",
     "output_type": "stream",
     "text": [
      "Computed Class Weights: {np.int64(0): np.float64(1.0), np.int64(1): np.float64(1.0), np.int64(2): np.float64(1.0)}\n",
      "Cross-Validation F1: 0.9999949682306654 ± 5.832838646090891e-06\n"
     ]
    },
    {
     "data": {
      "text/plain": [
       "['ids_model.pkl']"
      ]
     },
     "execution_count": 33,
     "metadata": {},
     "output_type": "execute_result"
    }
   ],
   "source": [
    "# Compute class weights dynamically\n",
    "weights = compute_class_weight(\n",
    "    class_weight='balanced',\n",
    "    classes=np.unique(y_train_res),\n",
    "    y=y_train_res\n",
    ")\n",
    "class_weights = dict(zip(np.unique(y_train_res), weights))\n",
    "print(\"Computed Class Weights:\", class_weights)\n",
    "\n",
    "# Faster Random Forest\n",
    "clf = RandomForestClassifier(\n",
    "    n_estimators=100,       # reduced from 200\n",
    "    max_depth=12,           # shallower trees\n",
    "    min_samples_split=10,\n",
    "    class_weight=class_weights,\n",
    "    random_state=42,\n",
    "    n_jobs=-1\n",
    ")\n",
    "\n",
    "clf.fit(X_train_scaled, y_train_res)\n",
    "\n",
    "# Optional CV (use 3 folds instead of 5 to save time)\n",
    "cv_scores = cross_val_score(clf, X_train_scaled, y_train_res, cv=3, scoring='f1_weighted')\n",
    "print(\"Cross-Validation F1:\", cv_scores.mean(), \"±\", cv_scores.std())\n",
    "\n",
    "joblib.dump(clf, \"ids_model.pkl\")\n"
   ]
  },
  {
   "cell_type": "code",
   "execution_count": 34,
   "id": "3813cb58",
   "metadata": {},
   "outputs": [
    {
     "name": "stdout",
     "output_type": "stream",
     "text": [
      "Accuracy: 0.9999938959627898\n",
      "Precision: 0.999993896738398\n",
      "Recall: 0.9999938959627898\n",
      "F1-Score: 0.9999938960916694\n",
      "\n",
      "Classification Report:\n",
      "                 precision    recall  f1-score   support\n",
      "\n",
      "        Benign       1.00      1.00      1.00    132492\n",
      "FTP-BruteForce       1.00      1.00      1.00      7869\n",
      "SSH-Bruteforce       1.00      1.00      1.00     23465\n",
      "\n",
      "      accuracy                           1.00    163826\n",
      "     macro avg       1.00      1.00      1.00    163826\n",
      "  weighted avg       1.00      1.00      1.00    163826\n",
      "\n"
     ]
    },
    {
     "data": {
      "image/png": "[encoded data removed]",
      "text/plain": [
       "<Figure size 800x600 with 2 Axes>"
      ]
     },
     "metadata": {},
     "output_type": "display_data"
    },
    {
     "name": "stdout",
     "output_type": "stream",
     "text": [
      "Weighted ROC-AUC: 0.9999954571957769\n"
     ]
    }
   ],
   "source": [
    "y_preds = clf.predict(X_test_scaled)\n",
    "\n",
    "print(\"Accuracy:\", accuracy_score(y_test, y_preds))\n",
    "print(\"Precision:\", precision_score(y_test, y_preds, average='weighted'))\n",
    "print(\"Recall:\", recall_score(y_test, y_preds, average='weighted'))\n",
    "print(\"F1-Score:\", f1_score(y_test, y_preds, average='weighted'))\n",
    "print(\"\\nClassification Report:\\n\", classification_report(y_test, y_preds, target_names=le.classes_))\n",
    "\n",
    "# Confusion Matrix\n",
    "cm = confusion_matrix(y_test, y_preds)\n",
    "plt.figure(figsize=(8,6))\n",
    "sns.heatmap(cm, annot=True, fmt='d', cmap='Blues', xticklabels=le.classes_, yticklabels=le.classes_)\n",
    "plt.xlabel('Predicted')\n",
    "plt.ylabel('True')\n",
    "plt.title('Confusion Matrix')\n",
    "plt.show()\n",
    "\n",
    "# ROC-AUC per class (multiclass OVR)\n",
    "try:\n",
    "    y_probs = clf.predict_proba(X_test_scaled)\n",
    "    auc = roc_auc_score(y_test, y_probs, multi_class=\"ovr\", average=\"weighted\")\n",
    "    print(\"Weighted ROC-AUC:\", auc)\n",
    "except:\n",
    "    print(\"ROC-AUC skipped (model not probability calibrated).\")\n"
   ]
  },
  {
   "cell_type": "code",
   "execution_count": 40,
   "id": "d63d7706",
   "metadata": {},
   "outputs": [
    {
     "data": {
      "text/plain": [
       "['Dst Port',\n",
       " 'Fwd Seg Size Min',\n",
       " 'Bwd Pkts/s',\n",
       " 'Fwd Header Len',\n",
       " 'Init Fwd Win Byts',\n",
       " 'Fwd Act Data Pkts',\n",
       " 'TotLen Fwd Pkts',\n",
       " 'Flow Pkts/s',\n",
       " 'Init Bwd Win Byts',\n",
       " 'Fwd Pkts/s',\n",
       " 'Subflow Fwd Byts',\n",
       " 'Flow IAT Max',\n",
       " 'Bwd Header Len',\n",
       " 'PSH Flag Cnt',\n",
       " 'Flow IAT Mean',\n",
       " 'Flow Duration',\n",
       " 'Subflow Bwd Pkts',\n",
       " 'Subflow Fwd Pkts',\n",
       " 'Tot Fwd Pkts',\n",
       " 'Fwd Pkt Len Max']"
      ]
     },
     "execution_count": 40,
     "metadata": {},
     "output_type": "execute_result"
    }
   ],
   "source": [
    "top_features"
   ]
  },
  {
   "cell_type": "markdown",
   "id": "4751ba80",
   "metadata": {},
   "source": [
    "Train the Model"
   ]
  },
  {
   "cell_type": "code",
   "execution_count": 41,
   "id": "7e0cbafa",
   "metadata": {},
   "outputs": [
    {
     "name": "stdout",
     "output_type": "stream",
     "text": [
      "Prediction: SSH-Bruteforce\n",
      "Prediction Probabilities:\n",
      "  Benign: 0.2711\n",
      "  FTP-BruteForce: 0.0100\n",
      "  SSH-Bruteforce: 0.7189\n",
      "Final Decision: SSH-Bruteforce (Confidence: 0.7189)\n"
     ]
    }
   ],
   "source": [
    "import numpy as np\n",
    "import pandas as pd\n",
    "import joblib\n",
    "\n",
    "# Load artifacts\n",
    "clf = joblib.load(\"ids_model.pkl\")\n",
    "scaler = joblib.load(\"scaler.pkl\")\n",
    "top_features = joblib.load(\"top_features.pkl\")\n",
    "label_encoder = joblib.load(\"label_encoder.pkl\")\n",
    "\n",
    "# ---- Create SSH-Bruteforce-like input ----\n",
    "# Must be a dataframe with feature names matching top_features\n",
    "sample_dict = {\n",
    "    'Dst Port': 22,                 # SSH default port\n",
    "    'Fwd Seg Size Min': 32,         # typical in SSH traffic\n",
    "    'Bwd Pkts/s': 2000,             # high packet rate from brute force\n",
    "    'Fwd Header Len': 400,          # larger headers\n",
    "    'Init Fwd Win Byts': 1024,      # initial window\n",
    "    'Fwd Act Data Pkts': 50,        # repeated active packets\n",
    "    'TotLen Fwd Pkts': 50000,       # large forward bytes\n",
    "    'Flow Pkts/s': 3000,            # abnormal flow packets/sec\n",
    "    'Init Bwd Win Byts': 1024,\n",
    "    'Fwd Pkts/s': 2500,             # forward rate high\n",
    "    'Subflow Fwd Byts': 100000,     # sustained attack\n",
    "    'Flow IAT Max': 5,              # very low inter-arrival time\n",
    "    'Bwd Header Len': 200,\n",
    "    'PSH Flag Cnt': 20,             # push flags common in brute-force\n",
    "    'Flow IAT Mean': 2,\n",
    "    'Flow Duration': 1000,          # short but repeated flows\n",
    "    'Subflow Bwd Pkts': 500,\n",
    "    'Subflow Fwd Pkts': 1500,\n",
    "    'Tot Fwd Pkts': 1500,\n",
    "    'Fwd Pkt Len Max': 1024\n",
    "}\n",
    "\n",
    "# Create DataFrame with correct feature names\n",
    "sample_df = pd.DataFrame([sample_dict])[top_features]\n",
    "\n",
    "# Scale\n",
    "sample_scaled = scaler.transform(sample_df)\n",
    "\n",
    "# Predict\n",
    "probs = clf.predict_proba(sample_scaled)[0]\n",
    "pred_class = np.argmax(probs)\n",
    "pred_label = label_encoder.inverse_transform([pred_class])[0]\n",
    "\n",
    "print(\"Prediction:\", pred_label)\n",
    "print(\"Prediction Probabilities:\")\n",
    "for cls, prob in zip(label_encoder.classes_, probs):\n",
    "    print(f\"  {cls}: {prob:.4f}\")\n",
    "print(f\"Final Decision: {pred_label} (Confidence: {probs[pred_class]:.4f})\")\n"
   ]
  },
  {
   "cell_type": "code",
   "execution_count": null,
   "id": "e9ef2a73",
   "metadata": {},
   "outputs": [],
   "source": []
  }
 ],
 "metadata": {
  "kernelspec": {
   "display_name": "tfkernel",
   "language": "python",
   "name": "tfkernel"
  },
  "language_info": {
   "codemirror_mode": {
    "name": "ipython",
    "version": 3
   },
   "file_extension": ".py",
   "mimetype": "text/x-python",
   "name": "python",
   "nbconvert_exporter": "python",
   "pygments_lexer": "ipython3",
   "version": "3.12.4"
  }
 },
 "nbformat": 4,
 "nbformat_minor": 5
}
