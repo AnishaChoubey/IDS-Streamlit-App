{
 "cells": [
  {
   "cell_type": "code",
   "execution_count": 3,
   "id": "20c71988",
   "metadata": {},
   "outputs": [
    {
     "name": "stdout",
     "output_type": "stream",
     "text": [
      "test.csv created with 5 rows and 20 features.\n"
     ]
    }
   ],
   "source": [
    "import pandas as pd\n",
    "import numpy as np\n",
    "\n",
    "top_features = ['Dst Port',\n",
    " 'Fwd Seg Size Min',\n",
    " 'Bwd Pkts/s',\n",
    " 'Fwd Header Len',\n",
    " 'Init Fwd Win Byts',\n",
    " 'Fwd Act Data Pkts',\n",
    " 'TotLen Fwd Pkts',\n",
    " 'Flow Pkts/s',\n",
    " 'Init Bwd Win Byts',\n",
    " 'Fwd Pkts/s',\n",
    " 'Subflow Fwd Byts',\n",
    " 'Flow IAT Max',\n",
    " 'Bwd Header Len',\n",
    " 'PSH Flag Cnt',\n",
    " 'Flow IAT Mean',\n",
    " 'Flow Duration',\n",
    " 'Subflow Bwd Pkts',\n",
    " 'Subflow Fwd Pkts',\n",
    " 'Tot Fwd Pkts',\n",
    " 'Fwd Pkt Len Max']\n",
    "\n",
    "sample_dict = {\n",
    "    'Dst Port': 22,                 # SSH default port\n",
    "    'Fwd Seg Size Min': 32,         # typical in SSH traffic\n",
    "    'Bwd Pkts/s': 2000,             # high packet rate from brute force\n",
    "    'Fwd Header Len': 400,          # larger headers\n",
    "    'Init Fwd Win Byts': 1024,      # initial window\n",
    "    'Fwd Act Data Pkts': 50,        # repeated active packets\n",
    "    'TotLen Fwd Pkts': 50000,       # large forward bytes\n",
    "    'Flow Pkts/s': 3000,            # abnormal flow packets/sec\n",
    "    'Init Bwd Win Byts': 1024,\n",
    "    'Fwd Pkts/s': 2500,             # forward rate high\n",
    "    'Subflow Fwd Byts': 100000,     # sustained attack\n",
    "    'Flow IAT Max': 5,              # very low inter-arrival time\n",
    "    'Bwd Header Len': 200,\n",
    "    'PSH Flag Cnt': 20,             # push flags common in brute-force\n",
    "    'Flow IAT Mean': 2,\n",
    "    'Flow Duration': 1000,          # short but repeated flows\n",
    "    'Subflow Bwd Pkts': 500,\n",
    "    'Subflow Fwd Pkts': 1500,\n",
    "    'Tot Fwd Pkts': 1500,\n",
    "    'Fwd Pkt Len Max': 1024\n",
    "}\n",
    "\n",
    "data = pd.DataFrame([sample_dict])[top_features]\n",
    "test_df = pd.DataFrame(data, columns=top_features)\n",
    "test_df.to_csv(r'C:\\Users\\anish\\Downloads\\IDS\\test.csv', index=False)\n",
    "print(\"test.csv created with 5 rows and 20 features.\")"
   ]
  }
 ],
 "metadata": {
  "kernelspec": {
   "display_name": "tfkernel",
   "language": "python",
   "name": "tfkernel"
  },
  "language_info": {
   "codemirror_mode": {
    "name": "ipython",
    "version": 3
   },
   "file_extension": ".py",
   "mimetype": "text/x-python",
   "name": "python",
   "nbconvert_exporter": "python",
   "pygments_lexer": "ipython3",
   "version": "3.12.4"
  }
 },
 "nbformat": 4,
 "nbformat_minor": 5
}
