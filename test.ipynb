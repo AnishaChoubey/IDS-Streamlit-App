{
 "cells": [
  {
   "cell_type": "code",
   "execution_count": 6,
   "id": "20c71988",
   "metadata": {},
   "outputs": [
    {
     "name": "stdout",
     "output_type": "stream",
     "text": [
      "test.csv created with 5 rows and 20 features.\n"
     ]
    }
   ],
   "source": [
    "import pandas as pd\n",
    "import numpy as np\n",
    "\n",
    "top_features = [\n",
    "    'Dst Port', 'Fwd Pkts/s', 'Init Bwd Win Byts', 'Fwd Seg Size Min', 'Init Fwd Win Byts', \n",
    "    'Flow IAT Mean', 'Flow Pkts/s', 'URG Flag Cnt', 'Tot Bwd Pkts', 'TotLen Fwd Pkts', \n",
    "    'Fwd IAT Max', 'Pkt Len Mean', 'Bwd Pkts/s', 'Down/Up Ratio', 'Fwd Pkt Len Max', \n",
    "    'Subflow Bwd Byts', 'Pkt Len Max', 'Bwd Header Len', 'PSH Flag Cnt', 'Fwd IAT Mean'\n",
    "]\n",
    "\n",
    "data = {\n",
    "    'Dst Port': [80, 443, 21, 21, 22],  # Benign: 80, 443; FTP: 21; SSH: 22\n",
    "    'Fwd Pkts/s': [20, 20, 1500000, 1500000, 1500000],  # More extreme for attacks\n",
    "    'Init Bwd Win Byts': [8192, 8192, 8, 8, 8],  # Very low for attacks\n",
    "    'Fwd Seg Size Min': [20, 20, 20, 20, 20],  # Standard\n",
    "    'Init Fwd Win Byts': [8192, 8192, 8, 8, 8],  # Very low for attacks\n",
    "    'Flow IAT Mean': [50000, 55555, 0.00005, 0.00005, 0.00005],  # Extremely low for attacks\n",
    "    'Flow Pkts/s': [36, 36.7, 1800000, 1800000, 1800000],  # More extreme for attacks\n",
    "    'URG Flag Cnt': [0, 0, 0, 0, 0],  # Rarely set\n",
    "    'Tot Bwd Pkts': [8, 10, 200, 200, 200],  # Higher for attacks\n",
    "    'TotLen Fwd Pkts': [500, 600, 2, 2, 2],  # Very low for attacks\n",
    "    'Fwd IAT Max': [100000, 110000, 0.00005, 0.00005, 0.00005],  # Extremely low for attacks\n",
    "    'Pkt Len Mean': [45, 45, 0.00005, 0.00005, 0.00005],  # Extremely low for attacks\n",
    "    'Bwd Pkts/s': [16, 16.7, 600000, 600000, 600000],  # More extreme for attacks\n",
    "    'Down/Up Ratio': [0.8, 0.83, 0.00005, 0.00005, 0.00005],  # Extremely low for attacks\n",
    "    'Fwd Pkt Len Max': [500, 600, 0.05, 0.05, 0.05],  # Very low for attacks\n",
    "    'Subflow Bwd Byts': [400, 500, 5, 5, 5],  # Very low for attacks\n",
    "    'Pkt Len Max': [500, 600, 0.05, 0.05, 0.05],  # Very low for attacks\n",
    "    'Bwd Header Len': [160, 200, 4000, 4000, 4000],  # High for attacks\n",
    "    'PSH Flag Cnt': [1, 1, 1, 1, 1],  # Often set\n",
    "    'Fwd IAT Mean': [50000, 55555, 0.00005, 0.00005, 0.00005]  # Extremely low for attacks\n",
    "}\n",
    "\n",
    "test_df = pd.DataFrame(data, columns=top_features)\n",
    "test_df.to_csv('test.csv', index=False)\n",
    "print(\"test.csv created with 5 rows and 20 features.\")"
   ]
  }
 ],
 "metadata": {
  "kernelspec": {
   "display_name": "tfkernel",
   "language": "python",
   "name": "tfkernel"
  },
  "language_info": {
   "codemirror_mode": {
    "name": "ipython",
    "version": 3
   },
   "file_extension": ".py",
   "mimetype": "text/x-python",
   "name": "python",
   "nbconvert_exporter": "python",
   "pygments_lexer": "ipython3",
   "version": "3.12.4"
  }
 },
 "nbformat": 4,
 "nbformat_minor": 5
}
